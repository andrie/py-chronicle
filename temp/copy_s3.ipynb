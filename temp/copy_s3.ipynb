{
 "cells": [
  {
   "cell_type": "code",
   "execution_count": 19,
   "metadata": {},
   "outputs": [],
   "source": [
    "import polars as pl\n",
    "import pyarrow.parquet as pq\n",
    "# date_range = \"2023/04\"\n",
    "# dsn = f\"s3://{bucket}/{logs_path}/{date_range}\"\n",
    "dsn = \"../nbs/data/v1/metrics_old.parquet\"\n",
    "x = (\n",
    "    pl.from_arrow(pq.read_table(dsn))\n",
    "    # .filter(pl.col(\"name\").str.contains(\"cpu\"))\n",
    "    # .filter(pl.col(\"name\").str.contains(\"ram\"))\n",
    "    .filter(pl.col(\"name\").str.contains(r\"system_memory\"))\n",
    "    # .head()\n",
    "    \n",
    ")\n",
    "pq.write_table(x.to_arrow(), '../nbs/data/v1/metrics/metrics2.parquet')"
   ]
  }
 ],
 "metadata": {
  "kernelspec": {
   "display_name": "venv",
   "language": "python",
   "name": "python3"
  },
  "language_info": {
   "codemirror_mode": {
    "name": "ipython",
    "version": 3
   },
   "file_extension": ".py",
   "mimetype": "text/x-python",
   "name": "python",
   "nbconvert_exporter": "python",
   "pygments_lexer": "ipython3",
   "version": "3.10.5"
  },
  "orig_nbformat": 4
 },
 "nbformat": 4,
 "nbformat_minor": 2
}
