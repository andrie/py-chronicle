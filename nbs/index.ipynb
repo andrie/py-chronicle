{
 "cells": [
  {
   "cell_type": "code",
   "execution_count": null,
   "metadata": {},
   "outputs": [],
   "source": [
    "#| hide\n",
    "from chronicle.core import *"
   ]
  },
  {
   "attachments": {},
   "cell_type": "markdown",
   "metadata": {},
   "source": [
    "# chronicle\n",
    "\n",
    "> Read and query chronicle data files"
   ]
  },
  {
   "attachments": {},
   "cell_type": "markdown",
   "metadata": {},
   "source": [
    ":::{.callout-warning}\n",
    "## Experimental - Work in progress\n",
    "\n",
    "The purpose of this experimental package is to expose functionality to make it easy to read, filter and manipulate chronicle parquet files.\n",
    "\n",
    ":::"
   ]
  },
  {
   "attachments": {},
   "cell_type": "markdown",
   "metadata": {},
   "source": [
    "## Install\n",
    "\n",
    "The package is not yet available on PyPi."
   ]
  },
  {
   "attachments": {},
   "cell_type": "markdown",
   "metadata": {},
   "source": [
    "~~pip install py_chronicle~~"
   ]
  },
  {
   "attachments": {},
   "cell_type": "markdown",
   "metadata": {},
   "source": [
    "You can install from github:"
   ]
  },
  {
   "attachments": {},
   "cell_type": "markdown",
   "metadata": {},
   "source": [
    "```sh\n",
    "pip install git+https://github.com/andrie/py-chronicle\n",
    "```"
   ]
  },
  {
   "attachments": {},
   "cell_type": "markdown",
   "metadata": {},
   "source": [
    "## How Chronicle stores data\n",
    "\n",
    "Chronicle collects and stores logs and metrics in a series of parquet files.\n",
    "\n",
    "Use `read_chronicle()` to read either logs or metrics, by specifying the path to the parquet set you need.\n",
    "\n",
    "The file tree looks like this, with `logs` and `metrics` in separate folders inside `v1`.\n",
    "\n",
    "``` bash\n",
    ".\n",
    "└── v1/\n",
    "    ├── logs/\n",
    "    └── metrics/\n",
    "```\n",
    "\n",
    "Inside both `logs` and `metrics` the data is stored by date, separated by year, month and day.\n",
    "\n",
    "``` bash\n",
    ".\n",
    "└── v1/\n",
    "    ├── logs/\n",
    "    │   └── 2023/\n",
    "    │       ├── 02/\n",
    "    │       │   ├── 01\n",
    "    │       │   ├── 02\n",
    "    │       │   ├── 03\n",
    "    │       │   ├── 04\n",
    "    │       │   ├── 05\n",
    "    │       │   └── ...\n",
    "    │       ├── 03\n",
    "    │       ├── 04\n",
    "    │       └── ...\n",
    "    └── metrics/\n",
    "        └── 2023/\n",
    "            ├── 02/\n",
    "            │   ├── 01\n",
    "            │   ├── 02\n",
    "            │   ├── 03\n",
    "            │   ├── 04\n",
    "            │   ├── 05\n",
    "            │   └── ...\n",
    "            ├── 03\n",
    "            ├── 04\n",
    "            └── ...\n",
    "```"
   ]
  },
  {
   "attachments": {},
   "cell_type": "markdown",
   "metadata": {},
   "source": [
    "## Working with metrics\n",
    "\n",
    "Some examples."
   ]
  },
  {
   "cell_type": "code",
   "execution_count": null,
   "metadata": {},
   "outputs": [
    {
     "data": {
      "text/html": [
       "<div><style>\n",
       ".dataframe > thead > tr > th,\n",
       ".dataframe > tbody > tr > td {\n",
       "  text-align: right;\n",
       "}\n",
       "</style>\n",
       "<small>shape: (5, 13)</small><table border=\"1\" class=\"dataframe\"><thead><tr><th>service</th><th>host</th><th>os</th><th>attributes</th><th>name</th><th>description</th><th>unit</th><th>type</th><th>timestamp</th><th>value_float</th><th>value_int</th><th>value_uint</th><th>value_column</th></tr><tr><td>str</td><td>str</td><td>str</td><td>list[struct[2]]</td><td>str</td><td>str</td><td>str</td><td>str</td><td>datetime[ms]</td><td>f64</td><td>i64</td><td>u64</td><td>str</td></tr></thead><tbody><tr><td>&quot;workbench-metr…</td><td>&quot;rstudio-workbe…</td><td>&quot;linux&quot;</td><td>[]</td><td>&quot;scrape_samples…</td><td>&quot;The number of …</td><td>&quot;&quot;</td><td>&quot;gauge&quot;</td><td>2023-04-03 16:02:20.574</td><td>69.0</td><td>0</td><td>0</td><td>&quot;value_float&quot;</td></tr><tr><td>&quot;workbench-metr…</td><td>&quot;rstudio-workbe…</td><td>&quot;linux&quot;</td><td>[{&quot;version&quot;,&quot;go1.14.6&quot;}]</td><td>&quot;go_info&quot;</td><td>&quot;Information ab…</td><td>&quot;&quot;</td><td>&quot;gauge&quot;</td><td>2023-04-03 16:02:20.574</td><td>1.0</td><td>0</td><td>0</td><td>&quot;value_float&quot;</td></tr><tr><td>&quot;workbench-metr…</td><td>&quot;rstudio-workbe…</td><td>&quot;linux&quot;</td><td>[]</td><td>&quot;go_memstats_mc…</td><td>&quot;Number of byte…</td><td>&quot;&quot;</td><td>&quot;gauge&quot;</td><td>2023-04-03 16:02:20.574</td><td>16384.0</td><td>0</td><td>0</td><td>&quot;value_float&quot;</td></tr><tr><td>&quot;workbench-metr…</td><td>&quot;rstudio-workbe…</td><td>&quot;linux&quot;</td><td>[{&quot;host&quot;,&quot;rstudio-workbench-6b9658c77f-mn8hj&quot;}]</td><td>&quot;rstudio_system…</td><td>&quot;Graphite metri…</td><td>&quot;&quot;</td><td>&quot;gauge&quot;</td><td>2023-04-03 16:02:20.574</td><td>0.0</td><td>0</td><td>0</td><td>&quot;value_float&quot;</td></tr><tr><td>&quot;workbench-metr…</td><td>&quot;rstudio-workbe…</td><td>&quot;linux&quot;</td><td>[]</td><td>&quot;go_memstats_ms…</td><td>&quot;Number of byte…</td><td>&quot;&quot;</td><td>&quot;gauge&quot;</td><td>2023-04-03 16:02:20.574</td><td>65536.0</td><td>0</td><td>0</td><td>&quot;value_float&quot;</td></tr></tbody></table></div>"
      ],
      "text/plain": [
       "shape: (5, 13)\n",
       "┌────────────┬────────────┬───────┬──────────┬───┬───────────┬───────────┬────────────┬────────────┐\n",
       "│ service    ┆ host       ┆ os    ┆ attribut ┆ … ┆ value_flo ┆ value_int ┆ value_uint ┆ value_colu │\n",
       "│ ---        ┆ ---        ┆ ---   ┆ es       ┆   ┆ at        ┆ ---       ┆ ---        ┆ mn         │\n",
       "│ str        ┆ str        ┆ str   ┆ ---      ┆   ┆ ---       ┆ i64       ┆ u64        ┆ ---        │\n",
       "│            ┆            ┆       ┆ list[str ┆   ┆ f64       ┆           ┆            ┆ str        │\n",
       "│            ┆            ┆       ┆ uct[2]]  ┆   ┆           ┆           ┆            ┆            │\n",
       "╞════════════╪════════════╪═══════╪══════════╪═══╪═══════════╪═══════════╪════════════╪════════════╡\n",
       "│ workbench- ┆ rstudio-wo ┆ linux ┆ []       ┆ … ┆ 69.0      ┆ 0         ┆ 0          ┆ value_floa │\n",
       "│ metrics    ┆ rkbench-6b ┆       ┆          ┆   ┆           ┆           ┆            ┆ t          │\n",
       "│            ┆ 9658c77f-m ┆       ┆          ┆   ┆           ┆           ┆            ┆            │\n",
       "│            ┆ n8…        ┆       ┆          ┆   ┆           ┆           ┆            ┆            │\n",
       "│ workbench- ┆ rstudio-wo ┆ linux ┆ [{\"versi ┆ … ┆ 1.0       ┆ 0         ┆ 0          ┆ value_floa │\n",
       "│ metrics    ┆ rkbench-6b ┆       ┆ on\",\"go1 ┆   ┆           ┆           ┆            ┆ t          │\n",
       "│            ┆ 9658c77f-m ┆       ┆ .14.6\"}] ┆   ┆           ┆           ┆            ┆            │\n",
       "│            ┆ n8…        ┆       ┆          ┆   ┆           ┆           ┆            ┆            │\n",
       "│ workbench- ┆ rstudio-wo ┆ linux ┆ []       ┆ … ┆ 16384.0   ┆ 0         ┆ 0          ┆ value_floa │\n",
       "│ metrics    ┆ rkbench-6b ┆       ┆          ┆   ┆           ┆           ┆            ┆ t          │\n",
       "│            ┆ 9658c77f-m ┆       ┆          ┆   ┆           ┆           ┆            ┆            │\n",
       "│            ┆ n8…        ┆       ┆          ┆   ┆           ┆           ┆            ┆            │\n",
       "│ workbench- ┆ rstudio-wo ┆ linux ┆ [{\"host\" ┆ … ┆ 0.0       ┆ 0         ┆ 0          ┆ value_floa │\n",
       "│ metrics    ┆ rkbench-6b ┆       ┆ ,\"rstudi ┆   ┆           ┆           ┆            ┆ t          │\n",
       "│            ┆ 9658c77f-m ┆       ┆ o-workbe ┆   ┆           ┆           ┆            ┆            │\n",
       "│            ┆ n8…        ┆       ┆ nch-6b96 ┆   ┆           ┆           ┆            ┆            │\n",
       "│            ┆            ┆       ┆ …        ┆   ┆           ┆           ┆            ┆            │\n",
       "│ workbench- ┆ rstudio-wo ┆ linux ┆ []       ┆ … ┆ 65536.0   ┆ 0         ┆ 0          ┆ value_floa │\n",
       "│ metrics    ┆ rkbench-6b ┆       ┆          ┆   ┆           ┆           ┆            ┆ t          │\n",
       "│            ┆ 9658c77f-m ┆       ┆          ┆   ┆           ┆           ┆            ┆            │\n",
       "│            ┆ n8…        ┆       ┆          ┆   ┆           ┆           ┆            ┆            │\n",
       "└────────────┴────────────┴───────┴──────────┴───┴───────────┴───────────┴────────────┴────────────┘"
      ]
     },
     "execution_count": null,
     "metadata": {},
     "output_type": "execute_result"
    }
   ],
   "source": [
    "scan_chronicle_metrics(\"./data\", \"2023/04/03\").head().collect()"
   ]
  },
  {
   "cell_type": "code",
   "execution_count": null,
   "metadata": {},
   "outputs": [],
   "source": [
    "scan_chronicle_metrics(\"./data\", \"2023/04/03\").metrics.describe()"
   ]
  },
  {
   "cell_type": "code",
   "execution_count": null,
   "metadata": {},
   "outputs": [],
   "source": [
    "scan_chronicle_metrics(\"./data\", \"2023/04/03\").metrics.filter(\"rsconnect_system_memory_used\", \"memory\").head()"
   ]
  },
  {
   "cell_type": "code",
   "execution_count": null,
   "metadata": {},
   "outputs": [],
   "source": [
    "scan_chronicle_metrics(\"./data\", \"2023/04/03\").metrics.plot(\"rsconnect_system_memory_used\", alias = \"memory\")"
   ]
  },
  {
   "attachments": {},
   "cell_type": "markdown",
   "metadata": {},
   "source": [
    "## Working with logs\n",
    "\n",
    "Some examples."
   ]
  },
  {
   "cell_type": "code",
   "execution_count": null,
   "metadata": {},
   "outputs": [
    {
     "data": {
      "text/html": [
       "<div><style>\n",
       ".dataframe > thead > tr > th,\n",
       ".dataframe > tbody > tr > td {\n",
       "  text-align: right;\n",
       "}\n",
       "</style>\n",
       "<small>shape: (5, 6)</small><table border=\"1\" class=\"dataframe\"><thead><tr><th>service</th><th>host</th><th>os</th><th>attributes</th><th>body</th><th>timestamp</th></tr><tr><td>str</td><td>str</td><td>str</td><td>list[struct[2]]</td><td>str</td><td>datetime[ms]</td></tr></thead><tbody><tr><td>&quot;workbench&quot;</td><td>&quot;rstudio-workbe…</td><td>&quot;linux&quot;</td><td>[{&quot;data&quot;,&quot;120&quot;}, {&quot;pid&quot;,&quot;2.36E+02&quot;}, … {&quot;type&quot;,&quot;session_suspend&quot;}]</td><td>&quot;{&quot;pid&quot;:236,&quot;us…</td><td>2023-04-03 18:01:26.665</td></tr><tr><td>&quot;workbench&quot;</td><td>&quot;rstudio-workbe…</td><td>&quot;linux&quot;</td><td>[{&quot;data&quot;,&quot;&quot;}, {&quot;pid&quot;,&quot;2.36E+02&quot;}, … {&quot;type&quot;,&quot;session_exit&quot;}]</td><td>&quot;{&quot;pid&quot;:236,&quot;us…</td><td>2023-04-03 18:01:26.761</td></tr><tr><td>&quot;connect&quot;</td><td>&quot;rstudio-connec…</td><td>&quot;linux&quot;</td><td>[{&quot;user_role&quot;,&quot;publisher&quot;}, {&quot;user_guid&quot;,&quot;085ba4be-01b5-478b-877c-321368924c89&quot;}, … {&quot;type&quot;,&quot;audit&quot;}]</td><td>&quot;{&quot;action&quot;:&quot;add…</td><td>2023-04-03 19:30:35.698</td></tr><tr><td>&quot;connect&quot;</td><td>&quot;rstudio-connec…</td><td>&quot;linux&quot;</td><td>[{&quot;log.file.name&quot;,&quot;audit.json&quot;}, {&quot;actor_description&quot;,&quot;Auth Provider&quot;}, … {&quot;entry_id&quot;,&quot;3.032E+03&quot;}]</td><td>&quot;{&quot;action&quot;:&quot;add…</td><td>2023-04-03 19:30:35.698</td></tr><tr><td>&quot;connect&quot;</td><td>&quot;rstudio-connec…</td><td>&quot;linux&quot;</td><td>[{&quot;action&quot;,&quot;add_group_member&quot;}, {&quot;actor_id&quot;,&quot;0E+00&quot;}, … {&quot;log.file.name&quot;,&quot;audit.json&quot;}]</td><td>&quot;{&quot;action&quot;:&quot;add…</td><td>2023-04-03 19:30:35.698</td></tr></tbody></table></div>"
      ],
      "text/plain": [
       "shape: (5, 6)\n",
       "┌───────────┬─────────────────────┬───────┬────────────────────┬────────────────────┬──────────────┐\n",
       "│ service   ┆ host                ┆ os    ┆ attributes         ┆ body               ┆ timestamp    │\n",
       "│ ---       ┆ ---                 ┆ ---   ┆ ---                ┆ ---                ┆ ---          │\n",
       "│ str       ┆ str                 ┆ str   ┆ list[struct[2]]    ┆ str                ┆ datetime[ms] │\n",
       "╞═══════════╪═════════════════════╪═══════╪════════════════════╪════════════════════╪══════════════╡\n",
       "│ workbench ┆ rstudio-workbench-6 ┆ linux ┆ [{\"data\",\"120\"},   ┆ {\"pid\":236,\"userna ┆ 2023-04-03   │\n",
       "│           ┆ b9658c77f-mn8…      ┆       ┆ {\"pid\",\"2.36E+0…   ┆ me\":\"james\",\"t…    ┆ 18:01:26.665 │\n",
       "│ workbench ┆ rstudio-workbench-6 ┆ linux ┆ [{\"data\",\"\"}, {\"pi ┆ {\"pid\":236,\"userna ┆ 2023-04-03   │\n",
       "│           ┆ b9658c77f-29k…      ┆       ┆ d\",\"2.36E+02\"}…    ┆ me\":\"james\",\"t…    ┆ 18:01:26.761 │\n",
       "│ connect   ┆ rstudio-connect-687 ┆ linux ┆ [{\"user_role\",\"pub ┆ {\"action\":\"add_use ┆ 2023-04-03   │\n",
       "│           ┆ 85f94cc-qzvrm       ┆       ┆ lisher\"}, {\"us…    ┆ r\",\"actor_desc…    ┆ 19:30:35.698 │\n",
       "│ connect   ┆ rstudio-connect-687 ┆ linux ┆ [{\"log.file.name\", ┆ {\"action\":\"add_gro ┆ 2023-04-03   │\n",
       "│           ┆ 85f94cc-qzvrm       ┆       ┆ \"audit.json\"},…    ┆ up_member\",\"ac…    ┆ 19:30:35.698 │\n",
       "│ connect   ┆ rstudio-connect-687 ┆ linux ┆ [{\"action\",\"add_gr ┆ {\"action\":\"add_gro ┆ 2023-04-03   │\n",
       "│           ┆ 85f94cc-qzvrm       ┆       ┆ oup_member\"}, …    ┆ up_member\",\"ac…    ┆ 19:30:35.698 │\n",
       "└───────────┴─────────────────────┴───────┴────────────────────┴────────────────────┴──────────────┘"
      ]
     },
     "execution_count": null,
     "metadata": {},
     "output_type": "execute_result"
    }
   ],
   "source": [
    "scan_chronicle_logs(\"./data\",  \"2023/04/03\").head().collect()\n"
   ]
  },
  {
   "cell_type": "code",
   "execution_count": null,
   "metadata": {},
   "outputs": [],
   "source": [
    "scan_chronicle_logs(\"./data\",  \"2023/04/03\").logs.filter_type(\"username\")"
   ]
  },
  {
   "attachments": {},
   "cell_type": "markdown",
   "metadata": {},
   "source": [
    "### "
   ]
  },
  {
   "attachments": {},
   "cell_type": "markdown",
   "metadata": {},
   "source": []
  }
 ],
 "metadata": {
  "kernelspec": {
   "display_name": "python3",
   "language": "python",
   "name": "python3"
  }
 },
 "nbformat": 4,
 "nbformat_minor": 4
}
