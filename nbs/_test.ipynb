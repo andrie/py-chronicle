{
 "cells": [
  {
   "cell_type": "code",
   "execution_count": null,
   "metadata": {},
   "outputs": [],
   "source": [
    "#| export\n",
    "import polars as pl\n",
    "import pyarrow.parquet as pq\n",
    "import pyarrow.dataset as ds\n",
    "from s3fs import S3FileSystem\n",
    "import pandas as pd\n",
    "import plotly.express as px\n",
    "from fastcore.basics import patch\n",
    "import re"
   ]
  },
  {
   "cell_type": "code",
   "execution_count": null,
   "metadata": {},
   "outputs": [],
   "source": [
    "path = \"./data/v1/logs/*/*/*/*.parquet\"\n",
    "logs = pl.scan_parquet(path)\n",
    "logs.collect()"
   ]
  },
  {
   "cell_type": "code",
   "execution_count": null,
   "metadata": {},
   "outputs": [],
   "source": [
    "(\n",
    "    pl.scan_parquet(path)\n",
    "        .with_columns([\n",
    "            pl.col(\"body\").str.json_path_match(\"$.type\").alias(\"type\"),\n",
    "            pl.col(\"body\").str.json_path_match(\"$.action\").alias(\"action\"),\n",
    "            pl.col(\"body\").str.json_path_match(\"$.actor_description\").alias(\"username\"),\n",
    "        ])\n",
    "        .filter(\n",
    "            (pl.col(\"service\") == \"connect\") &\n",
    "            (pl.col(\"type\") == \"audit\") &\n",
    "            (pl.col(\"action\") == \"add_group\")\n",
    "        )\n",
    "        # .with_columns(\n",
    "        #     pl.col(\"attributes\").arr.to_struct()\n",
    "        # )\n",
    "        # .select([\n",
    "        #     pl.col(\"attributes\").struct.unnest()\n",
    "        # ])\n",
    "    .head(1)\n",
    "    .explode(\"attributes\")\n",
    "    # .sort(\"attribtutes\")\n",
    "    .collect()\n",
    ")"
   ]
  },
  {
   "cell_type": "code",
   "execution_count": null,
   "metadata": {},
   "outputs": [],
   "source": [
    "\n",
    "def get_connect_logins(path):\n",
    "    return (\n",
    "        pl.scan_parquet(path)\n",
    "        .with_columns([\n",
    "            pl.col(\"body\").str.json_path_match(\"$.type\").alias(\"type\"),\n",
    "            pl.col(\"body\").str.json_path_match(\"$.action\").alias(\"action\"),\n",
    "            pl.col(\"body\").str.json_path_match(\"$.actor_description\").alias(\"username\"),\n",
    "        ])\n",
    "        .filter(\n",
    "            (pl.col(\"service\") == \"connect\") &\n",
    "            (pl.col(\"type\") == \"audit\") &\n",
    "            (pl.col(\"action\") == \"user_login\")\n",
    "        )\n",
    "        .select(\"host\", \"timestamp\", \"username\", \"action\", \"type\")\n",
    "        .collect()\n",
    "    )\n",
    "\n",
    "path = \"./data/v1/logs/*/*/*/*.parquet\"\n",
    "get_connect_logins(path)"
   ]
  },
  {
   "cell_type": "code",
   "execution_count": null,
   "metadata": {},
   "outputs": [],
   "source": []
  },
  {
   "cell_type": "code",
   "execution_count": null,
   "metadata": {},
   "outputs": [
    {
     "data": {
      "text/html": [
       "<div><style>\n",
       ".dataframe > thead > tr > th,\n",
       ".dataframe > tbody > tr > td {\n",
       "  text-align: right;\n",
       "}\n",
       "</style>\n",
       "<small>shape: (8, 5)</small><table border=\"1\" class=\"dataframe\"><thead><tr><th>host</th><th>timestamp</th><th>username</th><th>action</th><th>type</th></tr><tr><td>str</td><td>datetime[ms]</td><td>str</td><td>str</td><td>str</td></tr></thead><tbody><tr><td>&quot;rstudio-workbe…</td><td>2023-04-04 16:21:48.361</td><td>&quot;monanshi.shah&quot;</td><td>null</td><td>&quot;auth_login&quot;</td></tr><tr><td>&quot;rstudio-workbe…</td><td>2023-04-06 21:44:28.264</td><td>&quot;lisa.anders&quot;</td><td>null</td><td>&quot;auth_login&quot;</td></tr><tr><td>&quot;rstudio-workbe…</td><td>2023-04-07 03:46:57.960</td><td>&quot;james&quot;</td><td>null</td><td>&quot;auth_login&quot;</td></tr><tr><td>&quot;rstudio-workbe…</td><td>2023-04-11 17:14:54.265</td><td>&quot;lisa.anders&quot;</td><td>null</td><td>&quot;auth_login&quot;</td></tr><tr><td>&quot;rstudio-workbe…</td><td>2023-05-05 13:47:58.865</td><td>&quot;cole&quot;</td><td>null</td><td>&quot;auth_login&quot;</td></tr><tr><td>&quot;rstudio-workbe…</td><td>2023-05-08 15:19:22.190</td><td>&quot;andrie&quot;</td><td>null</td><td>&quot;auth_login&quot;</td></tr><tr><td>&quot;rstudio-workbe…</td><td>2023-05-08 16:58:39.698</td><td>&quot;monanshi.shah&quot;</td><td>null</td><td>&quot;auth_login&quot;</td></tr><tr><td>&quot;rstudio-workbe…</td><td>2023-05-09 14:30:10.252</td><td>&quot;monanshi.shah&quot;</td><td>null</td><td>&quot;auth_login&quot;</td></tr></tbody></table></div>"
      ],
      "text/plain": [
       "shape: (8, 5)\n",
       "┌──────────────────────────────────┬─────────────────────────┬───────────────┬────────┬────────────┐\n",
       "│ host                             ┆ timestamp               ┆ username      ┆ action ┆ type       │\n",
       "│ ---                              ┆ ---                     ┆ ---           ┆ ---    ┆ ---        │\n",
       "│ str                              ┆ datetime[ms]            ┆ str           ┆ str    ┆ str        │\n",
       "╞══════════════════════════════════╪═════════════════════════╪═══════════════╪════════╪════════════╡\n",
       "│ rstudio-workbench-6b9658c77f-29k ┆ 2023-04-04 16:21:48.361 ┆ monanshi.shah ┆ null   ┆ auth_login │\n",
       "│ …                                ┆                         ┆               ┆        ┆            │\n",
       "│ rstudio-workbench-6b9658c77f-mn8 ┆ 2023-04-06 21:44:28.264 ┆ lisa.anders   ┆ null   ┆ auth_login │\n",
       "│ …                                ┆                         ┆               ┆        ┆            │\n",
       "│ rstudio-workbench-6b9658c77f-29k ┆ 2023-04-07 03:46:57.960 ┆ james         ┆ null   ┆ auth_login │\n",
       "│ …                                ┆                         ┆               ┆        ┆            │\n",
       "│ rstudio-workbench-6b9658c77f-mn8 ┆ 2023-04-11 17:14:54.265 ┆ lisa.anders   ┆ null   ┆ auth_login │\n",
       "│ …                                ┆                         ┆               ┆        ┆            │\n",
       "│ rstudio-workbench-6b9658c77f-mn8 ┆ 2023-05-05 13:47:58.865 ┆ cole          ┆ null   ┆ auth_login │\n",
       "│ …                                ┆                         ┆               ┆        ┆            │\n",
       "│ rstudio-workbench-7fcbc876f4-jsz ┆ 2023-05-08 15:19:22.190 ┆ andrie        ┆ null   ┆ auth_login │\n",
       "│ …                                ┆                         ┆               ┆        ┆            │\n",
       "│ rstudio-workbench-7fcbc876f4-wq4 ┆ 2023-05-08 16:58:39.698 ┆ monanshi.shah ┆ null   ┆ auth_login │\n",
       "│ …                                ┆                         ┆               ┆        ┆            │\n",
       "│ rstudio-workbench-6b9658c77f-5cg ┆ 2023-05-09 14:30:10.252 ┆ monanshi.shah ┆ null   ┆ auth_login │\n",
       "│ …                                ┆                         ┆               ┆        ┆            │\n",
       "└──────────────────────────────────┴─────────────────────────┴───────────────┴────────┴────────────┘"
      ]
     },
     "execution_count": null,
     "metadata": {},
     "output_type": "execute_result"
    }
   ],
   "source": [
    "def get_workbench_logins(path):\n",
    "    return (\n",
    "        pl.scan_parquet(path)\n",
    "        .with_columns([\n",
    "            pl.col(\"body\").str.json_path_match(\"$.type\").alias(\"type\"),\n",
    "            pl.col(\"body\").str.json_path_match(\"$.action\").alias(\"action\"),\n",
    "            pl.col(\"body\").str.json_path_match(\"$.username\").alias(\"username\"),\n",
    "        ])\n",
    "        .filter(\n",
    "            (pl.col(\"service\") == \"workbench\") &\n",
    "            (pl.col(\"type\") == \"auth_login\")\n",
    "        )\n",
    "        .select(\"host\", \"timestamp\", \"username\", \"action\", \"type\")\n",
    "        .collect()\n",
    "    )\n",
    "\n",
    "get_workbench_logins(path)"
   ]
  },
  {
   "cell_type": "code",
   "execution_count": null,
   "metadata": {},
   "outputs": [],
   "source": [
    "\n",
    "scan_chronicle_logs(\"./data\", \"2023/04/03\").logs.filter_type(\"username\")\n",
    "logs = scan_chronicle_logs(\"./data\", \"2023/04/03\")\n",
    "(\n",
    "    logs\n",
    "    .with_columns([\n",
    "        pl.col(\"body\").str.json_path_match(\"$.type\").alias(\".type\")\n",
    "    ])\n",
    "    .unique(\".type\")\n",
    "    .collect()\n",
    ")"
   ]
  }
 ],
 "metadata": {
  "kernelspec": {
   "display_name": "python3",
   "language": "python",
   "name": "python3"
  }
 },
 "nbformat": 4,
 "nbformat_minor": 2
}
