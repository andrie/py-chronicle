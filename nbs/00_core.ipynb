{
 "cells": [
  {
   "attachments": {},
   "cell_type": "markdown",
   "metadata": {},
   "source": [
    "# core\n",
    "\n",
    "> Read and query chronicle parquet files."
   ]
  },
  {
   "cell_type": "code",
   "execution_count": 16,
   "metadata": {},
   "outputs": [],
   "source": [
    "#| default_exp core"
   ]
  },
  {
   "cell_type": "code",
   "execution_count": 17,
   "metadata": {},
   "outputs": [],
   "source": [
    "#| hide\n",
    "from nbdev.showdoc import *\n",
    "\n",
    "import polars as pl\n",
    "import pyarrow.parquet as pq\n",
    "import pyarrow.dataset as ds\n",
    "from s3fs import S3FileSystem"
   ]
  },
  {
   "cell_type": "code",
   "execution_count": 19,
   "metadata": {},
   "outputs": [],
   "source": [
    "#| export\n",
    "def read_chronicle(dataset):\n",
    "    return (\n",
    "        pl.from_arrow(pq.read_table(dataset))\n",
    "        .filter(pl.col(\"service\").is_not_null())\n",
    "    )\n"
   ]
  },
  {
   "cell_type": "code",
   "execution_count": 27,
   "metadata": {},
   "outputs": [
    {
     "data": {
      "text/html": [
       "<div><style>\n",
       ".dataframe > thead > tr > th,\n",
       ".dataframe > tbody > tr > td {\n",
       "  text-align: right;\n",
       "}\n",
       "</style>\n",
       "<small>shape: (78, 6)</small><table border=\"1\" class=\"dataframe\"><thead><tr><th>service</th><th>host</th><th>os</th><th>attributes</th><th>body</th><th>timestamp</th></tr><tr><td>str</td><td>str</td><td>str</td><td>list[struct[2]]</td><td>str</td><td>datetime[ms]</td></tr></thead><tbody><tr><td>&quot;workbench&quot;</td><td>&quot;rstudio-workbe…</td><td>&quot;linux&quot;</td><td>[{&quot;data&quot;,&quot;120&quot;}, {&quot;pid&quot;,&quot;2.36E+02&quot;}, … {&quot;type&quot;,&quot;session_suspend&quot;}]</td><td>&quot;{&quot;pid&quot;:236,&quot;us…</td><td>2023-04-03 18:01:26.665</td></tr><tr><td>&quot;workbench&quot;</td><td>&quot;rstudio-workbe…</td><td>&quot;linux&quot;</td><td>[{&quot;data&quot;,&quot;&quot;}, {&quot;pid&quot;,&quot;2.36E+02&quot;}, … {&quot;type&quot;,&quot;session_exit&quot;}]</td><td>&quot;{&quot;pid&quot;:236,&quot;us…</td><td>2023-04-03 18:01:26.761</td></tr><tr><td>&quot;connect&quot;</td><td>&quot;rstudio-connec…</td><td>&quot;linux&quot;</td><td>[{&quot;user_role&quot;,&quot;publisher&quot;}, {&quot;user_guid&quot;,&quot;085ba4be-01b5-478b-877c-321368924c89&quot;}, … {&quot;type&quot;,&quot;audit&quot;}]</td><td>&quot;{&quot;action&quot;:&quot;add…</td><td>2023-04-03 19:30:35.698</td></tr><tr><td>&quot;connect&quot;</td><td>&quot;rstudio-connec…</td><td>&quot;linux&quot;</td><td>[{&quot;log.file.name&quot;,&quot;audit.json&quot;}, {&quot;actor_description&quot;,&quot;Auth Provider&quot;}, … {&quot;entry_id&quot;,&quot;3.032E+03&quot;}]</td><td>&quot;{&quot;action&quot;:&quot;add…</td><td>2023-04-03 19:30:35.698</td></tr><tr><td>&quot;connect&quot;</td><td>&quot;rstudio-connec…</td><td>&quot;linux&quot;</td><td>[{&quot;action&quot;,&quot;add_group_member&quot;}, {&quot;actor_id&quot;,&quot;0E+00&quot;}, … {&quot;log.file.name&quot;,&quot;audit.json&quot;}]</td><td>&quot;{&quot;action&quot;:&quot;add…</td><td>2023-04-03 19:30:35.698</td></tr><tr><td>&quot;connect&quot;</td><td>&quot;rstudio-connec…</td><td>&quot;linux&quot;</td><td>[{&quot;log.file.name&quot;,&quot;audit.json&quot;}, {&quot;group_id&quot;,&quot;6.4E+01&quot;}, … {&quot;actor_description&quot;,&quot;Auth Provider&quot;}]</td><td>&quot;{&quot;action&quot;:&quot;add…</td><td>2023-04-03 19:30:35.699</td></tr><tr><td>&quot;connect&quot;</td><td>&quot;rstudio-connec…</td><td>&quot;linux&quot;</td><td>[{&quot;actor_role&quot;,&quot;system&quot;}, {&quot;level&quot;,&quot;info&quot;}, … {&quot;user_guid&quot;,&quot;085ba4be-01b5-478b-877c-321368924c89&quot;}]</td><td>&quot;{&quot;action&quot;:&quot;add…</td><td>2023-04-03 19:30:35.699</td></tr><tr><td>&quot;connect&quot;</td><td>&quot;rstudio-connec…</td><td>&quot;linux&quot;</td><td>[{&quot;time&quot;,&quot;2023-04-03T19:30:35.679Z&quot;}, {&quot;user_role&quot;,&quot;publisher&quot;}, … {&quot;msg&quot;,&quot;Added user Ming Beckwith (ming) to group App Group - 1Password&quot;}]</td><td>&quot;{&quot;action&quot;:&quot;add…</td><td>2023-04-03 19:30:35.699</td></tr><tr><td>&quot;connect&quot;</td><td>&quot;rstudio-connec…</td><td>&quot;linux&quot;</td><td>[{&quot;level&quot;,&quot;info&quot;}, {&quot;user_id&quot;,&quot;3.2E+01&quot;}, … {&quot;msg&quot;,&quot;Added user Ming Beckwith (ming) to group App Group - Snyk&quot;}]</td><td>&quot;{&quot;action&quot;:&quot;add…</td><td>2023-04-03 19:30:35.699</td></tr><tr><td>&quot;connect&quot;</td><td>&quot;rstudio-connec…</td><td>&quot;linux&quot;</td><td>[{&quot;group_guid&quot;,&quot;c545b0ec-b66b-4d2e-9d54-ecb8531c65d5&quot;}, {&quot;actor_id&quot;,&quot;0E+00&quot;}, … {&quot;user_guid&quot;,&quot;085ba4be-01b5-478b-877c-321368924c89&quot;}]</td><td>&quot;{&quot;action&quot;:&quot;add…</td><td>2023-04-03 19:30:35.898</td></tr><tr><td>&quot;connect&quot;</td><td>&quot;rstudio-connec…</td><td>&quot;linux&quot;</td><td>[{&quot;msg&quot;,&quot;Added group div-engineering-platform&quot;}, {&quot;time&quot;,&quot;2023-04-03T19:30:35.713Z&quot;}, … {&quot;actor_description&quot;,&quot;Auth Provider&quot;}]</td><td>&quot;{&quot;action&quot;:&quot;add…</td><td>2023-04-03 19:30:35.898</td></tr><tr><td>&quot;connect&quot;</td><td>&quot;rstudio-connec…</td><td>&quot;linux&quot;</td><td>[{&quot;actor_description&quot;,&quot;Auth Provider&quot;}, {&quot;entry_id&quot;,&quot;3.04E+03&quot;}, … {&quot;actor_role&quot;,&quot;system&quot;}]</td><td>&quot;{&quot;action&quot;:&quot;add…</td><td>2023-04-03 19:30:35.898</td></tr><tr><td>&hellip;</td><td>&hellip;</td><td>&hellip;</td><td>&hellip;</td><td>&hellip;</td><td>&hellip;</td></tr><tr><td>&quot;workbench&quot;</td><td>&quot;rstudio-workbe…</td><td>&quot;linux&quot;</td><td>[{&quot;type&quot;,&quot;session_start&quot;}, {&quot;data&quot;,&quot;&quot;}, … {&quot;log.file.name&quot;,&quot;r-sessions.jsonl&quot;}]</td><td>&quot;{&quot;pid&quot;:236,&quot;us…</td><td>2023-04-10 13:42:07.960</td></tr><tr><td>&quot;workbench&quot;</td><td>&quot;rstudio-workbe…</td><td>&quot;linux&quot;</td><td>[{&quot;username&quot;,&quot;james&quot;}, {&quot;timestamp&quot;,&quot;1.681132479E+12&quot;}, … {&quot;pid&quot;,&quot;1.781E+03&quot;}]</td><td>&quot;{&quot;pid&quot;:1781,&quot;u…</td><td>2023-04-10 13:14:40.064</td></tr><tr><td>&quot;workbench&quot;</td><td>&quot;rstudio-workbe…</td><td>&quot;linux&quot;</td><td>[{&quot;timestamp&quot;,&quot;1.681134106E+12&quot;}, {&quot;type&quot;,&quot;session_quit&quot;}, … {&quot;username&quot;,&quot;james&quot;}]</td><td>&quot;{&quot;pid&quot;:237,&quot;us…</td><td>2023-04-10 13:41:47.065</td></tr><tr><td>&quot;workbench&quot;</td><td>&quot;rstudio-workbe…</td><td>&quot;linux&quot;</td><td>[{&quot;username&quot;,&quot;james&quot;}, {&quot;timestamp&quot;,&quot;1.681132535E+12&quot;}, … {&quot;log.file.name&quot;,&quot;r-sessions.jsonl&quot;}]</td><td>&quot;{&quot;pid&quot;:236,&quot;us…</td><td>2023-04-10 13:15:35.864</td></tr><tr><td>&quot;workbench&quot;</td><td>&quot;rstudio-workbe…</td><td>&quot;linux&quot;</td><td>[{&quot;type&quot;,&quot;session_exit&quot;}, {&quot;data&quot;,&quot;&quot;}, … {&quot;timestamp&quot;,&quot;1.681132535E+12&quot;}]</td><td>&quot;{&quot;pid&quot;:236,&quot;us…</td><td>2023-04-10 13:15:35.864</td></tr><tr><td>&quot;workbench&quot;</td><td>&quot;rstudio-workbe…</td><td>&quot;linux&quot;</td><td>[{&quot;pid&quot;,&quot;1.781E+03&quot;}, {&quot;username&quot;,&quot;james&quot;}, … {&quot;log.file.name&quot;,&quot;r-sessions.jsonl&quot;}]</td><td>&quot;{&quot;pid&quot;:1781,&quot;u…</td><td>2023-04-10 13:14:39.961</td></tr><tr><td>&quot;workbench&quot;</td><td>&quot;rstudio-workbe…</td><td>&quot;linux&quot;</td><td>[{&quot;data&quot;,&quot;&quot;}, {&quot;log.file.name&quot;,&quot;r-sessions.jsonl&quot;}, … {&quot;type&quot;,&quot;session_start&quot;}]</td><td>&quot;{&quot;pid&quot;:236,&quot;us…</td><td>2023-04-10 13:15:13.561</td></tr><tr><td>&quot;workbench&quot;</td><td>&quot;rstudio-workbe…</td><td>&quot;linux&quot;</td><td>[{&quot;timestamp&quot;,&quot;1.681132913E+12&quot;}, {&quot;type&quot;,&quot;session_start&quot;}, … {&quot;username&quot;,&quot;james&quot;}]</td><td>&quot;{&quot;pid&quot;:237,&quot;us…</td><td>2023-04-10 13:21:53.361</td></tr><tr><td>&quot;workbench&quot;</td><td>&quot;rstudio-workbe…</td><td>&quot;linux&quot;</td><td>[{&quot;pid&quot;,&quot;1.061E+03&quot;}, {&quot;username&quot;,&quot;lisa.anders&quot;}, … {&quot;data&quot;,&quot;&quot;}]</td><td>&quot;{&quot;pid&quot;:1061,&quot;u…</td><td>2023-04-11 17:14:54.265</td></tr><tr><td>&quot;workbench&quot;</td><td>&quot;rstudio-workbe…</td><td>&quot;linux&quot;</td><td>[{&quot;data&quot;,&quot;&quot;}, {&quot;pid&quot;,&quot;2.35E+02&quot;}, … {&quot;type&quot;,&quot;session_start&quot;}]</td><td>&quot;{&quot;pid&quot;:235,&quot;us…</td><td>2023-04-11 17:17:31.265</td></tr><tr><td>&quot;workbench&quot;</td><td>&quot;rstudio-workbe…</td><td>&quot;linux&quot;</td><td>[{&quot;data&quot;,&quot;120&quot;}, {&quot;pid&quot;,&quot;2.35E+02&quot;}, … {&quot;type&quot;,&quot;session_suspend&quot;}]</td><td>&quot;{&quot;pid&quot;:235,&quot;us…</td><td>2023-04-11 19:28:52.665</td></tr><tr><td>&quot;workbench&quot;</td><td>&quot;rstudio-workbe…</td><td>&quot;linux&quot;</td><td>[{&quot;pid&quot;,&quot;2.35E+02&quot;}, {&quot;username&quot;,&quot;lisa.anders&quot;}, … {&quot;log.file.name&quot;,&quot;r-sessions.jsonl&quot;}]</td><td>&quot;{&quot;pid&quot;:235,&quot;us…</td><td>2023-04-11 19:28:52.665</td></tr></tbody></table></div>"
      ],
      "text/plain": [
       "shape: (78, 6)\n",
       "┌───────────┬─────────────────────┬───────┬────────────────────┬────────────────────┬──────────────┐\n",
       "│ service   ┆ host                ┆ os    ┆ attributes         ┆ body               ┆ timestamp    │\n",
       "│ ---       ┆ ---                 ┆ ---   ┆ ---                ┆ ---                ┆ ---          │\n",
       "│ str       ┆ str                 ┆ str   ┆ list[struct[2]]    ┆ str                ┆ datetime[ms] │\n",
       "╞═══════════╪═════════════════════╪═══════╪════════════════════╪════════════════════╪══════════════╡\n",
       "│ workbench ┆ rstudio-workbench-6 ┆ linux ┆ [{\"data\",\"120\"},   ┆ {\"pid\":236,\"userna ┆ 2023-04-03   │\n",
       "│           ┆ b9658c77f-mn8…      ┆       ┆ {\"pid\",\"2.36E+0…   ┆ me\":\"james\",\"t…    ┆ 18:01:26.665 │\n",
       "│ workbench ┆ rstudio-workbench-6 ┆ linux ┆ [{\"data\",\"\"}, {\"pi ┆ {\"pid\":236,\"userna ┆ 2023-04-03   │\n",
       "│           ┆ b9658c77f-29k…      ┆       ┆ d\",\"2.36E+02\"}…    ┆ me\":\"james\",\"t…    ┆ 18:01:26.761 │\n",
       "│ connect   ┆ rstudio-connect-687 ┆ linux ┆ [{\"user_role\",\"pub ┆ {\"action\":\"add_use ┆ 2023-04-03   │\n",
       "│           ┆ 85f94cc-qzvrm       ┆       ┆ lisher\"}, {\"us…    ┆ r\",\"actor_desc…    ┆ 19:30:35.698 │\n",
       "│ connect   ┆ rstudio-connect-687 ┆ linux ┆ [{\"log.file.name\", ┆ {\"action\":\"add_gro ┆ 2023-04-03   │\n",
       "│           ┆ 85f94cc-qzvrm       ┆       ┆ \"audit.json\"},…    ┆ up_member\",\"ac…    ┆ 19:30:35.698 │\n",
       "│ …         ┆ …                   ┆ …     ┆ …                  ┆ …                  ┆ …            │\n",
       "│ workbench ┆ rstudio-workbench-6 ┆ linux ┆ [{\"pid\",\"1.061E+03 ┆ {\"pid\":1061,\"usern ┆ 2023-04-11   │\n",
       "│           ┆ b9658c77f-mn8…      ┆       ┆ \"}, {\"username…    ┆ ame\":\"lisa.and…    ┆ 17:14:54.265 │\n",
       "│ workbench ┆ rstudio-workbench-6 ┆ linux ┆ [{\"data\",\"\"}, {\"pi ┆ {\"pid\":235,\"userna ┆ 2023-04-11   │\n",
       "│           ┆ b9658c77f-mn8…      ┆       ┆ d\",\"2.35E+02\"}…    ┆ me\":\"lisa.ande…    ┆ 17:17:31.265 │\n",
       "│ workbench ┆ rstudio-workbench-6 ┆ linux ┆ [{\"data\",\"120\"},   ┆ {\"pid\":235,\"userna ┆ 2023-04-11   │\n",
       "│           ┆ b9658c77f-mn8…      ┆       ┆ {\"pid\",\"2.35E+0…   ┆ me\":\"lisa.ande…    ┆ 19:28:52.665 │\n",
       "│ workbench ┆ rstudio-workbench-6 ┆ linux ┆ [{\"pid\",\"2.35E+02\" ┆ {\"pid\":235,\"userna ┆ 2023-04-11   │\n",
       "│           ┆ b9658c77f-mn8…      ┆       ┆ }, {\"username\"…    ┆ me\":\"lisa.ande…    ┆ 19:28:52.665 │\n",
       "└───────────┴─────────────────────┴───────┴────────────────────┴────────────────────┴──────────────┘"
      ]
     },
     "execution_count": 27,
     "metadata": {},
     "output_type": "execute_result"
    }
   ],
   "source": [
    "z = read_chronicle(\"../data/metrics.parquet\")\n",
    "assert type(z) == pl.dataframe.frame.DataFrame\n",
    "\n",
    "z = read_chronicle(\"../data/logs.parquet\")\n",
    "assert type(z) == pl.dataframe.frame.DataFrame\n",
    "\n",
    "z\n"
   ]
  },
  {
   "cell_type": "code",
   "execution_count": null,
   "metadata": {},
   "outputs": [],
   "source": [
    "#| hide\n",
    "import nbdev; nbdev.nbdev_export()"
   ]
  }
 ],
 "metadata": {
  "kernelspec": {
   "display_name": "Python 3 (ipykernel)",
   "language": "python",
   "name": "python3"
  },
  "language_info": {
   "codemirror_mode": {
    "name": "ipython",
    "version": 3
   },
   "file_extension": ".py",
   "mimetype": "text/x-python",
   "name": "python",
   "nbconvert_exporter": "python",
   "pygments_lexer": "ipython3",
   "version": "3.10.5"
  }
 },
 "nbformat": 4,
 "nbformat_minor": 4
}
