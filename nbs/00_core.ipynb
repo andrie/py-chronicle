{
 "cells": [
  {
   "attachments": {},
   "cell_type": "markdown",
   "metadata": {},
   "source": [
    "# core\n",
    "\n",
    "> Read and query chronicle parquet files."
   ]
  },
  {
   "cell_type": "code",
   "execution_count": null,
   "metadata": {},
   "outputs": [],
   "source": [
    "#| default_exp core"
   ]
  },
  {
   "cell_type": "code",
   "execution_count": null,
   "metadata": {},
   "outputs": [],
   "source": [
    "#| hide\n",
    "from nbdev.showdoc import *"
   ]
  },
  {
   "cell_type": "code",
   "execution_count": null,
   "metadata": {},
   "outputs": [],
   "source": [
    "#| export\n",
    "import polars as pl\n",
    "import pyarrow.parquet as pq\n",
    "import pyarrow.dataset as ds\n",
    "from s3fs import S3FileSystem\n",
    "import pandas as pd\n",
    "import plotly.express as px\n",
    "from fastcore.basics import patch"
   ]
  },
  {
   "attachments": {},
   "cell_type": "markdown",
   "metadata": {},
   "source": [
    "## Read chronicle parquet files (logs and metrics)"
   ]
  },
  {
   "cell_type": "code",
   "execution_count": null,
   "metadata": {},
   "outputs": [],
   "source": [
    "#| export\n",
    "def read_chronicle(\n",
    "        dataset: str # Path to dataset\n",
    "    ) -> pl.DataFrame:\n",
    "    \"Read a chronicle parquet file into a polars dataframe.\"\n",
    "    df = pl.from_arrow(pq.read_table(dataset))\n",
    "    return df\n"
   ]
  },
  {
   "cell_type": "code",
   "execution_count": null,
   "metadata": {},
   "outputs": [],
   "source": [
    "z = read_chronicle(\"./data/v1/metrics\")\n",
    "assert type(z) == pl.dataframe.frame.DataFrame\n",
    "\n",
    "z = read_chronicle(\"./data/v1/logs\")\n",
    "assert type(z) == pl.dataframe.frame.DataFrame"
   ]
  },
  {
   "attachments": {},
   "cell_type": "markdown",
   "metadata": {},
   "source": [
    "## Analyse metrics"
   ]
  },
  {
   "attachments": {},
   "cell_type": "markdown",
   "metadata": {},
   "source": [
    "#### describe_measures()"
   ]
  },
  {
   "attachments": {},
   "cell_type": "markdown",
   "metadata": {},
   "source": [
    "The metrics data has a single row for each collected metric.\n",
    "\n",
    "Use `describe()` to get a DataFrame of the unique metrics in the metrics data, containaing the service, name and description of each metric."
   ]
  },
  {
   "cell_type": "code",
   "execution_count": null,
   "metadata": {},
   "outputs": [],
   "source": [
    "#| export\n",
    "@pl.api.register_dataframe_namespace(\"metrics\")\n",
    "class ChronicleMetrics:\n",
    "    def __init__(self, df: pl.DataFrame):\n",
    "        self._df = df\n",
    "\n",
    "    def describe(self) -> pl.DataFrame:\n",
    "        \"Reads metrics dataframe and returns a pandas dataframe with summary of service, name and description of all metrics\"\n",
    "        return (\n",
    "            self._df\n",
    "            .groupby(\"service\", \"name\")\n",
    "            .agg(\n",
    "                pl.col(\"description\").unique(),\n",
    "                pl.col(\"value_column\").unique(),\n",
    "            )\n",
    "            .sort(\"service\", \"name\")\n",
    "            .to_pandas()\n",
    "        )\n"
   ]
  },
  {
   "cell_type": "code",
   "execution_count": null,
   "metadata": {},
   "outputs": [],
   "source": [
    "\n",
    "read_chronicle(\"./data/v1/metrics/\").metrics.describe()"
   ]
  },
  {
   "attachments": {},
   "cell_type": "markdown",
   "metadata": {},
   "source": [
    "#### get_metric_values()"
   ]
  },
  {
   "cell_type": "code",
   "execution_count": null,
   "metadata": {},
   "outputs": [],
   "source": [
    "#| export\n",
    "@patch\n",
    "def filter(self: ChronicleMetrics, \n",
    "        name:str, # name of metric to extract\n",
    "        alias:str # alias to use for new column\n",
    "    ) -> pd.DataFrame:\n",
    "    \"Extract a single metric from a metrics dataframe\"\n",
    "    return (\n",
    "        self._df\n",
    "        .lazy()\n",
    "        .filter(pl.col(\"name\") == name)\n",
    "        .sort(pl.col(\"host\"), pl.col(\"timestamp\"))\n",
    "        .select([\n",
    "            \"host\",\n",
    "            pl.col(\"timestamp\"),\n",
    "            pl.col(\"value_float\").alias(alias)\n",
    "        ])\n",
    "        .collect()\n",
    "        .to_pandas()\n",
    "    )\n"
   ]
  },
  {
   "cell_type": "code",
   "execution_count": null,
   "metadata": {},
   "outputs": [],
   "source": [
    "read_chronicle(\"./data/v1/metrics/\").metrics.filter(\"rsconnect_system_memory_used\", \"memory\")"
   ]
  },
  {
   "attachments": {},
   "cell_type": "markdown",
   "metadata": {},
   "source": [
    "#### Plot metric"
   ]
  },
  {
   "cell_type": "code",
   "execution_count": null,
   "metadata": {},
   "outputs": [],
   "source": [
    "#| export\n",
    "@patch\n",
    "def plot(\n",
    "        self:ChronicleMetrics, # metrics dataframe\n",
    "        name:str, # name of metric to extract\n",
    "        alias:str # alias to use for new column\n",
    "    ) -> px.line: \n",
    "    \"Plot a selected metric using a Plotly line plot\"\n",
    "\n",
    "    dat = self._df.metrics.filter(name, alias) \n",
    "    fig = px.line(dat, x='timestamp', y=alias, line_group=\"host\", color=\"host\")\n",
    "    return fig\n",
    "\n"
   ]
  },
  {
   "cell_type": "code",
   "execution_count": null,
   "metadata": {},
   "outputs": [],
   "source": [
    "m = read_chronicle(\"./data/v1/metrics/\")\n",
    "p = m.metrics.plot(\"rsconnect_system_memory_used\", \"memory\")\n",
    "assert str(type(p)) == \"<class 'plotly.graph_objs._figure.Figure'>\"\n",
    "\n",
    "read_chronicle(\"./data/v1/metrics/\").metrics.plot(\"rsconnect_system_memory_used\", \"memory\")"
   ]
  },
  {
   "attachments": {},
   "cell_type": "markdown",
   "metadata": {},
   "source": [
    "## Analyse logs"
   ]
  },
  {
   "cell_type": "code",
   "execution_count": null,
   "metadata": {},
   "outputs": [
    {
     "name": "stderr",
     "output_type": "stream",
     "text": [
      "C:\\Users\\apdev\\AppData\\Local\\Temp\\ipykernel_23424\\1071911166.py:3: UserWarning:\n",
      "\n",
      "Overriding existing custom namespace 'logs' (on DataFrame)\n",
      "\n"
     ]
    }
   ],
   "source": [
    "\n",
    "#| export\n",
    "@pl.api.register_dataframe_namespace(\"logs\")\n",
    "class ChronicleLogs:\n",
    "    def __init__(self, df: pl.DataFrame):\n",
    "        self._df = df"
   ]
  },
  {
   "cell_type": "code",
   "execution_count": null,
   "metadata": {},
   "outputs": [],
   "source": [
    "#| export\n",
    "@patch\n",
    "def filter_type(self: ChronicleLogs,\n",
    "                value: str # Value to extract \n",
    "    ) -> pd.DataFrame:\n",
    "    \"Extract all logs where type == value\"\n",
    "    return (\n",
    "        self._df\n",
    "        .lazy()\n",
    "        .with_columns([\n",
    "            (pl.col(\"body\").str.json_path_match(f\"$.{value}\").alias(f\".{value}\")),\n",
    "            (pl.col(\"body\").str.json_path_match(\"$.type\").alias(\".type\"))\n",
    "        ])\n",
    "        .filter(pl.col(f\".{value}\").is_not_null())\n",
    "        .select([\"service\", \"host\", \"timestamp\", f\".{value}\", \".type\", \"body\"])\n",
    "        .sort(\"service\", \"host\", f\".{value}\", \"timestamp\")\n",
    "        .collect()\n",
    "    )"
   ]
  },
  {
   "attachments": {},
   "cell_type": "markdown",
   "metadata": {},
   "source": [
    "#### Filter logs on type"
   ]
  },
  {
   "cell_type": "code",
   "execution_count": null,
   "metadata": {},
   "outputs": [
    {
     "data": {
      "text/plain": [
       "polars.dataframe.frame.DataFrame"
      ]
     },
     "execution_count": null,
     "metadata": {},
     "output_type": "execute_result"
    }
   ],
   "source": [
    "logs = read_chronicle(\"./data/v1/logs\").logs.filter_type(\"username\")\n",
    "assert type(logs) == pl.DataFrame\n",
    "\n",
    "# assert logs\n"
   ]
  },
  {
   "cell_type": "code",
   "execution_count": null,
   "metadata": {},
   "outputs": [
    {
     "data": {
      "text/html": [
       "<div><style>\n",
       ".dataframe > thead > tr > th,\n",
       ".dataframe > tbody > tr > td {\n",
       "  text-align: right;\n",
       "}\n",
       "</style>\n",
       "<small>shape: (28, 6)</small><table border=\"1\" class=\"dataframe\"><thead><tr><th>service</th><th>host</th><th>timestamp</th><th>.username</th><th>.type</th><th>body</th></tr><tr><td>str</td><td>str</td><td>datetime[ms]</td><td>str</td><td>str</td><td>str</td></tr></thead><tbody><tr><td>&quot;workbench&quot;</td><td>&quot;rstudio-workbe…</td><td>2023-04-03 18:01:26.761</td><td>&quot;james&quot;</td><td>&quot;session_exit&quot;</td><td>&quot;{&quot;pid&quot;:236,&quot;us…</td></tr><tr><td>&quot;workbench&quot;</td><td>&quot;rstudio-workbe…</td><td>2023-04-07 03:46:57.960</td><td>&quot;james&quot;</td><td>&quot;auth_login&quot;</td><td>&quot;{&quot;pid&quot;:1059,&quot;u…</td></tr><tr><td>&quot;workbench&quot;</td><td>&quot;rstudio-workbe…</td><td>2023-04-07 03:51:15.161</td><td>&quot;james&quot;</td><td>&quot;session_start&quot;</td><td>&quot;{&quot;pid&quot;:236,&quot;us…</td></tr><tr><td>&quot;workbench&quot;</td><td>&quot;rstudio-workbe…</td><td>2023-04-07 04:19:18.561</td><td>&quot;james&quot;</td><td>&quot;session_exit&quot;</td><td>&quot;{&quot;pid&quot;:236,&quot;us…</td></tr><tr><td>&quot;workbench&quot;</td><td>&quot;rstudio-workbe…</td><td>2023-04-07 04:19:19.764</td><td>&quot;james&quot;</td><td>&quot;session_start&quot;</td><td>&quot;{&quot;pid&quot;:883,&quot;us…</td></tr><tr><td>&quot;workbench&quot;</td><td>&quot;rstudio-workbe…</td><td>2023-04-07 05:43:02.161</td><td>&quot;james&quot;</td><td>&quot;session_exit&quot;</td><td>&quot;{&quot;pid&quot;:883,&quot;us…</td></tr><tr><td>&quot;workbench&quot;</td><td>&quot;rstudio-workbe…</td><td>2023-04-10 13:14:39.961</td><td>&quot;james&quot;</td><td>&quot;session_quit&quot;</td><td>&quot;{&quot;pid&quot;:1781,&quot;u…</td></tr><tr><td>&quot;workbench&quot;</td><td>&quot;rstudio-workbe…</td><td>2023-04-10 13:15:13.561</td><td>&quot;james&quot;</td><td>&quot;session_start&quot;</td><td>&quot;{&quot;pid&quot;:236,&quot;us…</td></tr><tr><td>&quot;workbench&quot;</td><td>&quot;rstudio-workbe…</td><td>2023-04-10 13:21:53.361</td><td>&quot;james&quot;</td><td>&quot;session_start&quot;</td><td>&quot;{&quot;pid&quot;:237,&quot;us…</td></tr><tr><td>&quot;workbench&quot;</td><td>&quot;rstudio-workbe…</td><td>2023-04-10 13:41:46.960</td><td>&quot;james&quot;</td><td>&quot;session_exit&quot;</td><td>&quot;{&quot;pid&quot;:237,&quot;us…</td></tr><tr><td>&quot;workbench&quot;</td><td>&quot;rstudio-workbe…</td><td>2023-04-10 13:42:07.960</td><td>&quot;james&quot;</td><td>&quot;session_start&quot;</td><td>&quot;{&quot;pid&quot;:236,&quot;us…</td></tr><tr><td>&quot;workbench&quot;</td><td>&quot;rstudio-workbe…</td><td>2023-04-04 16:21:48.361</td><td>&quot;monanshi.shah&quot;</td><td>&quot;auth_login&quot;</td><td>&quot;{&quot;pid&quot;:1064,&quot;u…</td></tr><tr><td>&hellip;</td><td>&hellip;</td><td>&hellip;</td><td>&hellip;</td><td>&hellip;</td><td>&hellip;</td></tr><tr><td>&quot;workbench&quot;</td><td>&quot;rstudio-workbe…</td><td>2023-04-07 15:01:58.266</td><td>&quot;james&quot;</td><td>&quot;session_suspen…</td><td>&quot;{&quot;pid&quot;:1393,&quot;u…</td></tr><tr><td>&quot;workbench&quot;</td><td>&quot;rstudio-workbe…</td><td>2023-04-07 15:01:58.266</td><td>&quot;james&quot;</td><td>&quot;session_exit&quot;</td><td>&quot;{&quot;pid&quot;:1393,&quot;u…</td></tr><tr><td>&quot;workbench&quot;</td><td>&quot;rstudio-workbe…</td><td>2023-04-07 15:02:00.264</td><td>&quot;james&quot;</td><td>&quot;session_start&quot;</td><td>&quot;{&quot;pid&quot;:1781,&quot;u…</td></tr><tr><td>&quot;workbench&quot;</td><td>&quot;rstudio-workbe…</td><td>2023-04-10 13:14:40.064</td><td>&quot;james&quot;</td><td>&quot;session_exit&quot;</td><td>&quot;{&quot;pid&quot;:1781,&quot;u…</td></tr><tr><td>&quot;workbench&quot;</td><td>&quot;rstudio-workbe…</td><td>2023-04-10 13:15:35.864</td><td>&quot;james&quot;</td><td>&quot;session_quit&quot;</td><td>&quot;{&quot;pid&quot;:236,&quot;us…</td></tr><tr><td>&quot;workbench&quot;</td><td>&quot;rstudio-workbe…</td><td>2023-04-10 13:15:35.864</td><td>&quot;james&quot;</td><td>&quot;session_exit&quot;</td><td>&quot;{&quot;pid&quot;:236,&quot;us…</td></tr><tr><td>&quot;workbench&quot;</td><td>&quot;rstudio-workbe…</td><td>2023-04-10 13:41:47.065</td><td>&quot;james&quot;</td><td>&quot;session_quit&quot;</td><td>&quot;{&quot;pid&quot;:237,&quot;us…</td></tr><tr><td>&quot;workbench&quot;</td><td>&quot;rstudio-workbe…</td><td>2023-04-06 21:44:28.264</td><td>&quot;lisa.anders&quot;</td><td>&quot;auth_login&quot;</td><td>&quot;{&quot;pid&quot;:1065,&quot;u…</td></tr><tr><td>&quot;workbench&quot;</td><td>&quot;rstudio-workbe…</td><td>2023-04-11 17:14:54.265</td><td>&quot;lisa.anders&quot;</td><td>&quot;auth_login&quot;</td><td>&quot;{&quot;pid&quot;:1061,&quot;u…</td></tr><tr><td>&quot;workbench&quot;</td><td>&quot;rstudio-workbe…</td><td>2023-04-11 17:17:31.265</td><td>&quot;lisa.anders&quot;</td><td>&quot;session_start&quot;</td><td>&quot;{&quot;pid&quot;:235,&quot;us…</td></tr><tr><td>&quot;workbench&quot;</td><td>&quot;rstudio-workbe…</td><td>2023-04-11 19:28:52.665</td><td>&quot;lisa.anders&quot;</td><td>&quot;session_suspen…</td><td>&quot;{&quot;pid&quot;:235,&quot;us…</td></tr><tr><td>&quot;workbench&quot;</td><td>&quot;rstudio-workbe…</td><td>2023-04-11 19:28:52.665</td><td>&quot;lisa.anders&quot;</td><td>&quot;session_exit&quot;</td><td>&quot;{&quot;pid&quot;:235,&quot;us…</td></tr></tbody></table></div>"
      ],
      "text/plain": [
       "shape: (28, 6)\n",
       "┌───────────┬───────────────────┬──────────────┬─────────────┬─────────────────┬───────────────────┐\n",
       "│ service   ┆ host              ┆ timestamp    ┆ .username   ┆ .type           ┆ body              │\n",
       "│ ---       ┆ ---               ┆ ---          ┆ ---         ┆ ---             ┆ ---               │\n",
       "│ str       ┆ str               ┆ datetime[ms] ┆ str         ┆ str             ┆ str               │\n",
       "╞═══════════╪═══════════════════╪══════════════╪═════════════╪═════════════════╪═══════════════════╡\n",
       "│ workbench ┆ rstudio-workbench ┆ 2023-04-03   ┆ james       ┆ session_exit    ┆ {\"pid\":236,\"usern │\n",
       "│           ┆ -6b9658c77f-29k…  ┆ 18:01:26.761 ┆             ┆                 ┆ ame\":\"james\",\"t…  │\n",
       "│ workbench ┆ rstudio-workbench ┆ 2023-04-07   ┆ james       ┆ auth_login      ┆ {\"pid\":1059,\"user │\n",
       "│           ┆ -6b9658c77f-29k…  ┆ 03:46:57.960 ┆             ┆                 ┆ name\":\"james\",\"…  │\n",
       "│ workbench ┆ rstudio-workbench ┆ 2023-04-07   ┆ james       ┆ session_start   ┆ {\"pid\":236,\"usern │\n",
       "│           ┆ -6b9658c77f-29k…  ┆ 03:51:15.161 ┆             ┆                 ┆ ame\":\"james\",\"t…  │\n",
       "│ workbench ┆ rstudio-workbench ┆ 2023-04-07   ┆ james       ┆ session_exit    ┆ {\"pid\":236,\"usern │\n",
       "│           ┆ -6b9658c77f-29k…  ┆ 04:19:18.561 ┆             ┆                 ┆ ame\":\"james\",\"t…  │\n",
       "│ …         ┆ …                 ┆ …            ┆ …           ┆ …               ┆ …                 │\n",
       "│ workbench ┆ rstudio-workbench ┆ 2023-04-11   ┆ lisa.anders ┆ auth_login      ┆ {\"pid\":1061,\"user │\n",
       "│           ┆ -6b9658c77f-mn8…  ┆ 17:14:54.265 ┆             ┆                 ┆ name\":\"lisa.and…  │\n",
       "│ workbench ┆ rstudio-workbench ┆ 2023-04-11   ┆ lisa.anders ┆ session_start   ┆ {\"pid\":235,\"usern │\n",
       "│           ┆ -6b9658c77f-mn8…  ┆ 17:17:31.265 ┆             ┆                 ┆ ame\":\"lisa.ande…  │\n",
       "│ workbench ┆ rstudio-workbench ┆ 2023-04-11   ┆ lisa.anders ┆ session_suspend ┆ {\"pid\":235,\"usern │\n",
       "│           ┆ -6b9658c77f-mn8…  ┆ 19:28:52.665 ┆             ┆                 ┆ ame\":\"lisa.ande…  │\n",
       "│ workbench ┆ rstudio-workbench ┆ 2023-04-11   ┆ lisa.anders ┆ session_exit    ┆ {\"pid\":235,\"usern │\n",
       "│           ┆ -6b9658c77f-mn8…  ┆ 19:28:52.665 ┆             ┆                 ┆ ame\":\"lisa.ande…  │\n",
       "└───────────┴───────────────────┴──────────────┴─────────────┴─────────────────┴───────────────────┘"
      ]
     },
     "execution_count": null,
     "metadata": {},
     "output_type": "execute_result"
    }
   ],
   "source": [
    "\n",
    "read_chronicle(\"./data/v1/logs\").logs.filter_type(\"username\")"
   ]
  },
  {
   "cell_type": "code",
   "execution_count": null,
   "metadata": {},
   "outputs": [],
   "source": [
    "#| hide\n",
    "import nbdev; nbdev.nbdev_export()"
   ]
  }
 ],
 "metadata": {
  "kernelspec": {
   "display_name": "python3",
   "language": "python",
   "name": "python3"
  }
 },
 "nbformat": 4,
 "nbformat_minor": 4
}
