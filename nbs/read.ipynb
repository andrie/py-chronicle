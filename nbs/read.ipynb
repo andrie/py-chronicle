{
 "cells": [
  {
   "cell_type": "code",
   "execution_count": null,
   "metadata": {},
   "outputs": [],
   "source": []
  },
  {
   "attachments": {},
   "cell_type": "markdown",
   "metadata": {},
   "source": [
    "# read\n",
    "\n",
    "> Read and query chronicle parquet files.\n",
    "\n",
    "In most cases you should prefer the scan interface over the read interface.  Refer to `scan_chronicle()` for more information."
   ]
  },
  {
   "cell_type": "code",
   "execution_count": null,
   "metadata": {},
   "outputs": [],
   "source": [
    "#| default_exp read"
   ]
  },
  {
   "cell_type": "code",
   "execution_count": null,
   "metadata": {},
   "outputs": [],
   "source": [
    "#| hide\n",
    "from nbdev.showdoc import *"
   ]
  },
  {
   "cell_type": "code",
   "execution_count": null,
   "metadata": {},
   "outputs": [],
   "source": [
    "#| export\n",
    "import polars as pl\n",
    "import pyarrow.parquet as pq\n",
    "# import pyarrow.dataset as ds\n",
    "# from s3fs import S3FileSystem\n",
    "# import pandas as pd\n",
    "# from fastcore.basics import patch\n",
    "# import re"
   ]
  },
  {
   "attachments": {},
   "cell_type": "markdown",
   "metadata": {},
   "source": [
    "## Using the read interface"
   ]
  },
  {
   "cell_type": "code",
   "execution_count": null,
   "metadata": {},
   "outputs": [],
   "source": [
    "#| hide\n",
    "#| export\n",
    "def read_chronicle(\n",
    "        path: str, # Path to dataset,\n",
    "        type: str = \"\", # must be `metrics` or `logs`\n",
    "        date:str = \"\", # date in format `YYYY/MM/DD` \n",
    "        version: str = \"v1\" # currently must be `v1`\n",
    "    ) -> pl.DataFrame:\n",
    "    \"Read a chronicle parquet file into a polars dataframe.\"\n",
    "    path = f\"{path}/{version}/{type}/{date}\"\n",
    "    return pl.from_arrow(pq.read_table(path))\n",
    "\n"
   ]
  },
  {
   "cell_type": "code",
   "execution_count": null,
   "metadata": {},
   "outputs": [],
   "source": [
    "#| export\n",
    "def read_chronicle_metrics(\n",
    "        path: str, # Path to dataset,\n",
    "        date:str = \"\", # date in format `YYYY/MM/DD` \n",
    "        version: str = \"v1\" # currently must be `v1`\n",
    ") -> pl.DataFrame:\n",
    "    \"Read a chronicle metrics parquet file into a polars dataframe.\"\n",
    "    return read_chronicle(path, \"metrics\", date, version = version) \n",
    "\n",
    "def read_chronicle_logs(\n",
    "        path: str, # Path to dataset,\n",
    "        date:str = \"\", # date in format `YYYY/MM/DD` \n",
    "        version: str = \"v1\" # currently must be `v1`\n",
    ") -> pl.DataFrame:\n",
    "    \"Read a chronicle logs parquet file into a polars dataframe.\"\n",
    "    return read_chronicle(path, \"logs\", date, version) \n"
   ]
  },
  {
   "cell_type": "code",
   "execution_count": null,
   "metadata": {},
   "outputs": [],
   "source": [
    "z = read_chronicle_metrics(\"./data\", \"2023/04/03\")\n",
    "assert type(z) == pl.DataFrame\n",
    "assert z.columns == [\n",
    "    'service',\n",
    "    'host',\n",
    "    'os',\n",
    "    'attributes',\n",
    "    'name',\n",
    "    'description',\n",
    "    'unit',\n",
    "    'type',\n",
    "    'timestamp',\n",
    "    'value_float',\n",
    "    'value_int',\n",
    "    'value_uint',\n",
    "    'value_column'\n",
    "]"
   ]
  },
  {
   "cell_type": "code",
   "execution_count": null,
   "metadata": {},
   "outputs": [],
   "source": [
    "\n",
    "z = read_chronicle_logs(\"./data\", \"2023/04/03\")\n",
    "assert type(z) == pl.dataframe.frame.DataFrame\n",
    "assert z.columns == [\n",
    "    'service', \n",
    "    'host', \n",
    "    'os', \n",
    "    'attributes', \n",
    "    'body', \n",
    "    'timestamp'\n",
    "]"
   ]
  }
 ],
 "metadata": {
  "kernelspec": {
   "display_name": "python3",
   "language": "python",
   "name": "python3"
  }
 },
 "nbformat": 4,
 "nbformat_minor": 2
}
