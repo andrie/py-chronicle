{
 "cells": [
  {
   "attachments": {},
   "cell_type": "markdown",
   "metadata": {},
   "source": [
    "# core\n",
    "\n",
    "> Read and query chronicle parquet files."
   ]
  },
  {
   "cell_type": "code",
   "execution_count": null,
   "metadata": {},
   "outputs": [],
   "source": [
    "#| default_exp core"
   ]
  },
  {
   "cell_type": "code",
   "execution_count": null,
   "metadata": {},
   "outputs": [],
   "source": [
    "#| hide\n",
    "from nbdev.showdoc import *"
   ]
  },
  {
   "cell_type": "code",
   "execution_count": null,
   "metadata": {},
   "outputs": [],
   "source": [
    "#| export\n",
    "import polars as pl\n",
    "import pyarrow.parquet as pq\n",
    "import pyarrow.dataset as ds\n",
    "from s3fs import S3FileSystem\n",
    "import pandas as pd\n",
    "import plotly.express as px\n",
    "from fastcore.basics import patch\n",
    "import re"
   ]
  },
  {
   "attachments": {},
   "cell_type": "markdown",
   "metadata": {},
   "source": [
    "## Read chronicle parquet files\n",
    "\n",
    "Chronicle collects and stores logs and metrics in a series of parquet files.\n",
    "\n",
    "Use `read_chronicle()` to read either logs or metrics, by specifying the path to the parquet set you need.\n",
    "\n",
    "The file tree looks like this, with `logs` and `metrics` in separate folders inside `v1`.\n",
    "\n",
    "``` bash\n",
    ".\n",
    "└── v1/\n",
    "    ├── logs/\n",
    "    └── metrics/\n",
    "```\n",
    "\n",
    "Inside both `logs` and `metrics` the data is stored by date, separated by year, month and day.\n",
    "\n",
    "``` bash\n",
    ".\n",
    "└── v1/\n",
    "    ├── logs/\n",
    "    │   └── 2023/\n",
    "    │       ├── 02/\n",
    "    │       │   ├── 01\n",
    "    │       │   ├── 02\n",
    "    │       │   ├── 03\n",
    "    │       │   ├── 04\n",
    "    │       │   ├── 05\n",
    "    │       │   └── ...\n",
    "    │       ├── 03\n",
    "    │       ├── 04\n",
    "    │       └── ...\n",
    "    └── metrics/\n",
    "        └── 2023/\n",
    "            ├── 02/\n",
    "            │   ├── 01\n",
    "            │   ├── 02\n",
    "            │   ├── 03\n",
    "            │   ├── 04\n",
    "            │   ├── 05\n",
    "            │   └── ...\n",
    "            ├── 03\n",
    "            ├── 04\n",
    "            └── ...\n",
    "```"
   ]
  },
  {
   "attachments": {},
   "cell_type": "markdown",
   "metadata": {},
   "source": [
    "## Using the read interface"
   ]
  },
  {
   "cell_type": "code",
   "execution_count": null,
   "metadata": {},
   "outputs": [],
   "source": [
    "#| hide\n",
    "#| export\n",
    "def read_chronicle(\n",
    "        path: str, # Path to dataset,\n",
    "        type: str = \"\", # must be `metrics` or `logs`\n",
    "        date:str = \"\", # date in format `YYYY/MM/DD` \n",
    "        version: str = \"v1\" # currently must be `v1`\n",
    "    ) -> pl.DataFrame:\n",
    "    \"Read a chronicle parquet file into a polars dataframe.\"\n",
    "    path = f\"{path}/{version}/{type}/{date}\"\n",
    "    return pl.from_arrow(pq.read_table(path))\n",
    "\n"
   ]
  },
  {
   "cell_type": "code",
   "execution_count": null,
   "metadata": {},
   "outputs": [],
   "source": [
    "#| export\n",
    "def read_chronicle_metrics(\n",
    "        path: str, # Path to dataset,\n",
    "        date:str = \"\", # date in format `YYYY/MM/DD` \n",
    "        version: str = \"v1\" # currently must be `v1`\n",
    ") -> pl.DataFrame:\n",
    "    \"Read a chronicle metrics parquet file into a polars dataframe.\"\n",
    "    return read_chronicle(path, \"metrics\", date, version = version) \n",
    "\n",
    "def read_chronicle_logs(\n",
    "        path: str, # Path to dataset,\n",
    "        date:str = \"\", # date in format `YYYY/MM/DD` \n",
    "        version: str = \"v1\" # currently must be `v1`\n",
    ") -> pl.DataFrame:\n",
    "    \"Read a chronicle logs parquet file into a polars dataframe.\"\n",
    "    return read_chronicle(path, \"logs\", date, version) \n"
   ]
  },
  {
   "cell_type": "code",
   "execution_count": null,
   "metadata": {},
   "outputs": [],
   "source": [
    "z = read_chronicle_metrics(\"./data\", \"2023/04/03\")\n",
    "assert type(z) == pl.DataFrame\n",
    "assert z.columns == [\n",
    "    'service',\n",
    "    'host',\n",
    "    'os',\n",
    "    'attributes',\n",
    "    'name',\n",
    "    'description',\n",
    "    'unit',\n",
    "    'type',\n",
    "    'timestamp',\n",
    "    'value_float',\n",
    "    'value_int',\n",
    "    'value_uint',\n",
    "    'value_column'\n",
    "]"
   ]
  },
  {
   "cell_type": "code",
   "execution_count": null,
   "metadata": {},
   "outputs": [],
   "source": [
    "\n",
    "z = read_chronicle_logs(\"./data\", \"2023/04/03\")\n",
    "assert type(z) == pl.dataframe.frame.DataFrame\n",
    "assert z.columns == [\n",
    "    'service', \n",
    "    'host', \n",
    "    'os', \n",
    "    'attributes', \n",
    "    'body', \n",
    "    'timestamp'\n",
    "]"
   ]
  },
  {
   "attachments": {},
   "cell_type": "markdown",
   "metadata": {},
   "source": [
    "## Using the scan interface"
   ]
  },
  {
   "cell_type": "code",
   "execution_count": null,
   "metadata": {},
   "outputs": [],
   "source": [
    "#| export\n",
    "def scan_chronicle(\n",
    "        path: str, # Path to dataset,\n",
    "        type: str = \"\", # must be `metrics` or `logs`\n",
    "        date:str = None, # date in format `YYYY/MM/DD` \n",
    "        filename: str = None, # name of parquet file. If empty, will be inferred.\n",
    "        version: str = \"v1\" # currently must be `v1`\n",
    "    ) -> pl.LazyFrame:\n",
    "    \"Read a chronicle parquet file into a polars LazyFrame.\"\n",
    "    if date == None:\n",
    "        date = \"*/*/*\"\n",
    "    else:\n",
    "        date = re.sub(\"-\", \"/\", date)\n",
    "        dateh = re.sub(\"/\", \"-\", date)\n",
    "    if filename == None:\n",
    "        # filename = f\"{type}-{dateh}.parquet\"\n",
    "        filename = \"*.parquet\"\n",
    "    path = f\"{path}/{version}/{type}/{date}/{filename}\"\n",
    "    # return path\n",
    "    return pl.scan_parquet(path)\n",
    "\n"
   ]
  },
  {
   "cell_type": "code",
   "execution_count": null,
   "metadata": {},
   "outputs": [
    {
     "data": {
      "text/html": [
       "<i>naive plan: (run <b>LazyFrame.explain(optimized=True)</b> to see the optimized plan)</i>\n",
       "    <p></p>\n",
       "    <div>RECHUNK<p></p>  UNION:<p></p>  PLAN 0:<p></p><p></p>      PARQUET SCAN data\\v1\\metrics\\2023\\04\\03\\metrics-2023-04-03.parquet<p></p>      PROJECT */13 COLUMNS<p></p>  END UNION</div>"
      ],
      "text/plain": [
       "<polars.LazyFrame object>"
      ]
     },
     "execution_count": null,
     "metadata": {},
     "output_type": "execute_result"
    }
   ],
   "source": [
    "\n",
    "scan_chronicle(\"./data\", \"metrics\", \"2023/04/03\")\n"
   ]
  },
  {
   "cell_type": "code",
   "execution_count": null,
   "metadata": {},
   "outputs": [],
   "source": [
    "#| export\n",
    "def scan_chronicle_metrics(\n",
    "        path: str, # Path to dataset,\n",
    "        date:str = None, # date in format `YYYY/MM/DD` \n",
    "        version: str = \"v1\" # currently must be `v1`\n",
    ") -> pl.DataFrame:\n",
    "    \"Read a chronicle metrics parquet file into a polars dataframe.\"\n",
    "    return scan_chronicle(path, \"metrics\", date, version = version) \n",
    "\n",
    "def scan_chronicle_logs(\n",
    "        path: None, # Path to dataset,\n",
    "        date:str = None, # date in format `YYYY/MM/DD` \n",
    "        version: str = \"v1\" # currently must be `v1`\n",
    ") -> pl.DataFrame:\n",
    "    \"Read a chronicle logs parquet file into a polars dataframe.\"\n",
    "    return scan_chronicle(path, \"logs\", date, version = version) \n"
   ]
  },
  {
   "cell_type": "code",
   "execution_count": null,
   "metadata": {},
   "outputs": [],
   "source": [
    "z = scan_chronicle_metrics(\"./data\", \"2023/04/03\")\n",
    "assert type(z) == pl.LazyFrame\n",
    "assert z.collect().columns == [\n",
    "    'service',\n",
    "    'host',\n",
    "    'os',\n",
    "    'attributes',\n",
    "    'name',\n",
    "    'description',\n",
    "    'unit',\n",
    "    'type',\n",
    "    'timestamp',\n",
    "    'value_float',\n",
    "    'value_int',\n",
    "    'value_uint',\n",
    "    'value_column'\n",
    "]"
   ]
  },
  {
   "cell_type": "code",
   "execution_count": null,
   "metadata": {},
   "outputs": [],
   "source": [
    "\n",
    "z = scan_chronicle_logs(\"./data\", \"2023/04/03\")\n",
    "assert type(z) == pl.LazyFrame\n",
    "assert z.collect().columns == [\n",
    "    'service', \n",
    "    'host', \n",
    "    'os', \n",
    "    'attributes', \n",
    "    'body', \n",
    "    'timestamp'\n",
    "]"
   ]
  },
  {
   "attachments": {},
   "cell_type": "markdown",
   "metadata": {},
   "source": [
    "## Analyse metrics"
   ]
  },
  {
   "cell_type": "code",
   "execution_count": null,
   "metadata": {},
   "outputs": [
    {
     "name": "stderr",
     "output_type": "stream",
     "text": [
      "C:\\Users\\apdev\\AppData\\Local\\Temp\\ipykernel_20952\\3900824862.py:11: UserWarning: Overriding existing custom namespace 'metrics' (on LazyFrame)\n",
      "  class ChronicleMetrics:\n"
     ]
    }
   ],
   "source": [
    "#| export\n",
    "# @pl.api.register_dataframe_namespace(\"metrics\")\n",
    "# class ChronicleMetrics:\n",
    "#     def __init__(self, \n",
    "#                  df: pl.DataFrame # A `polars` DataFrame\n",
    "#                  ) -> pl.DataFrame:\n",
    "#         \"Initialise a chronicle metrics class\"\n",
    "#         self._df = df\n",
    "\n",
    "@pl.api.register_lazyframe_namespace(\"metrics\")\n",
    "class ChronicleMetrics:\n",
    "    def __init__(self, \n",
    "                 ldf: pl.LazyFrame # A `polars` DataFrame\n",
    "                 ) -> pl.LazyFrame:\n",
    "        \"Initialise a chronicle metrics class\"\n",
    "        self._ldf = ldf\n",
    "\n"
   ]
  },
  {
   "attachments": {},
   "cell_type": "markdown",
   "metadata": {},
   "source": [
    "Use `.metrics.describe()` to get a DataFrame of the unique metrics in the metrics data, containing the `service`, `name` and `description` of each metric."
   ]
  },
  {
   "cell_type": "code",
   "execution_count": null,
   "metadata": {},
   "outputs": [],
   "source": [
    "#| export\n",
    "@patch\n",
    "def describe(self: ChronicleMetrics) -> pl.DataFrame:\n",
    "    \"Reads metrics dataframe and returns a pandas dataframe with summary of service, name and description of all metrics\"\n",
    "    return (\n",
    "        self._ldf\n",
    "        .groupby(\"service\", \"name\")\n",
    "        .agg(\n",
    "            pl.col(\"description\").unique(),\n",
    "            pl.col(\"value_column\").unique(),\n",
    "        )\n",
    "        .with_columns(\n",
    "            pl.col(\"description\").arr.join(\", \"),\n",
    "            pl.col(\"value_column\").arr.join(\"\")\n",
    "        )\n",
    "        .sort(\"service\", \"name\")\n",
    "        .collect()\n",
    "        .to_pandas()\n",
    "    )\n",
    "\n"
   ]
  },
  {
   "cell_type": "code",
   "execution_count": null,
   "metadata": {},
   "outputs": [
    {
     "data": {
      "text/html": [
       "<div>\n",
       "<style scoped>\n",
       "    .dataframe tbody tr th:only-of-type {\n",
       "        vertical-align: middle;\n",
       "    }\n",
       "\n",
       "    .dataframe tbody tr th {\n",
       "        vertical-align: top;\n",
       "    }\n",
       "\n",
       "    .dataframe thead th {\n",
       "        text-align: right;\n",
       "    }\n",
       "</style>\n",
       "<table border=\"1\" class=\"dataframe\">\n",
       "  <thead>\n",
       "    <tr style=\"text-align: right;\">\n",
       "      <th></th>\n",
       "      <th>service</th>\n",
       "      <th>name</th>\n",
       "      <th>description</th>\n",
       "      <th>value_column</th>\n",
       "    </tr>\n",
       "  </thead>\n",
       "  <tbody>\n",
       "    <tr>\n",
       "      <th>0</th>\n",
       "      <td></td>\n",
       "      <td>system.cpu.time</td>\n",
       "      <td>Total CPU seconds broken down by different sta...</td>\n",
       "      <td>value_float</td>\n",
       "    </tr>\n",
       "    <tr>\n",
       "      <th>1</th>\n",
       "      <td></td>\n",
       "      <td>system.memory.usage</td>\n",
       "      <td>Bytes of memory in use.</td>\n",
       "      <td>value_int</td>\n",
       "    </tr>\n",
       "    <tr>\n",
       "      <th>2</th>\n",
       "      <td>connect-metrics</td>\n",
       "      <td>go_goroutines</td>\n",
       "      <td>Number of goroutines that currently exist.</td>\n",
       "      <td>value_float</td>\n",
       "    </tr>\n",
       "    <tr>\n",
       "      <th>3</th>\n",
       "      <td>connect-metrics</td>\n",
       "      <td>go_info</td>\n",
       "      <td>Information about the Go environment.</td>\n",
       "      <td>value_float</td>\n",
       "    </tr>\n",
       "    <tr>\n",
       "      <th>4</th>\n",
       "      <td>connect-metrics</td>\n",
       "      <td>go_memstats_alloc_bytes</td>\n",
       "      <td>Number of bytes allocated and still in use.</td>\n",
       "      <td>value_float</td>\n",
       "    </tr>\n",
       "    <tr>\n",
       "      <th>...</th>\n",
       "      <td>...</td>\n",
       "      <td>...</td>\n",
       "      <td>...</td>\n",
       "      <td>...</td>\n",
       "    </tr>\n",
       "    <tr>\n",
       "      <th>176</th>\n",
       "      <td>workbench-metrics</td>\n",
       "      <td>scrape_series_added</td>\n",
       "      <td>The approximate number of new series in this s...</td>\n",
       "      <td>value_float</td>\n",
       "    </tr>\n",
       "    <tr>\n",
       "      <th>177</th>\n",
       "      <td>workbench-metrics</td>\n",
       "      <td>statsd_metric_mapper_cache_gets_total</td>\n",
       "      <td>The count of total metric cache gets.</td>\n",
       "      <td>value_float</td>\n",
       "    </tr>\n",
       "    <tr>\n",
       "      <th>178</th>\n",
       "      <td>workbench-metrics</td>\n",
       "      <td>statsd_metric_mapper_cache_hits_total</td>\n",
       "      <td>The count of total metric cache hits.</td>\n",
       "      <td>value_float</td>\n",
       "    </tr>\n",
       "    <tr>\n",
       "      <th>179</th>\n",
       "      <td>workbench-metrics</td>\n",
       "      <td>statsd_metric_mapper_cache_length</td>\n",
       "      <td>The count of unique metrics currently cached.</td>\n",
       "      <td>value_float</td>\n",
       "    </tr>\n",
       "    <tr>\n",
       "      <th>180</th>\n",
       "      <td>workbench-metrics</td>\n",
       "      <td>up</td>\n",
       "      <td>The scraping was successful</td>\n",
       "      <td>value_float</td>\n",
       "    </tr>\n",
       "  </tbody>\n",
       "</table>\n",
       "<p>181 rows × 4 columns</p>\n",
       "</div>"
      ],
      "text/plain": [
       "               service                                   name  \\\n",
       "0                                             system.cpu.time   \n",
       "1                                         system.memory.usage   \n",
       "2      connect-metrics                          go_goroutines   \n",
       "3      connect-metrics                                go_info   \n",
       "4      connect-metrics                go_memstats_alloc_bytes   \n",
       "..                 ...                                    ...   \n",
       "176  workbench-metrics                    scrape_series_added   \n",
       "177  workbench-metrics  statsd_metric_mapper_cache_gets_total   \n",
       "178  workbench-metrics  statsd_metric_mapper_cache_hits_total   \n",
       "179  workbench-metrics      statsd_metric_mapper_cache_length   \n",
       "180  workbench-metrics                                     up   \n",
       "\n",
       "                                           description value_column  \n",
       "0    Total CPU seconds broken down by different sta...  value_float  \n",
       "1                              Bytes of memory in use.    value_int  \n",
       "2           Number of goroutines that currently exist.  value_float  \n",
       "3                Information about the Go environment.  value_float  \n",
       "4          Number of bytes allocated and still in use.  value_float  \n",
       "..                                                 ...          ...  \n",
       "176  The approximate number of new series in this s...  value_float  \n",
       "177              The count of total metric cache gets.  value_float  \n",
       "178              The count of total metric cache hits.  value_float  \n",
       "179      The count of unique metrics currently cached.  value_float  \n",
       "180                        The scraping was successful  value_float  \n",
       "\n",
       "[181 rows x 4 columns]"
      ]
     },
     "execution_count": null,
     "metadata": {},
     "output_type": "execute_result"
    }
   ],
   "source": [
    "\n",
    "scan_chronicle_metrics(\"../temp/\", \"2023/04/03\").metrics.describe()"
   ]
  },
  {
   "cell_type": "code",
   "execution_count": null,
   "metadata": {},
   "outputs": [
    {
     "data": {
      "text/html": [
       "<div>\n",
       "<style scoped>\n",
       "    .dataframe tbody tr th:only-of-type {\n",
       "        vertical-align: middle;\n",
       "    }\n",
       "\n",
       "    .dataframe tbody tr th {\n",
       "        vertical-align: top;\n",
       "    }\n",
       "\n",
       "    .dataframe thead th {\n",
       "        text-align: right;\n",
       "    }\n",
       "</style>\n",
       "<table border=\"1\" class=\"dataframe\">\n",
       "  <thead>\n",
       "    <tr style=\"text-align: right;\">\n",
       "      <th></th>\n",
       "      <th>service</th>\n",
       "      <th>name</th>\n",
       "      <th>description</th>\n",
       "      <th>value_column</th>\n",
       "    </tr>\n",
       "  </thead>\n",
       "  <tbody>\n",
       "    <tr>\n",
       "      <th>0</th>\n",
       "      <td></td>\n",
       "      <td>system.cpu.time</td>\n",
       "      <td>Total CPU seconds broken down by different sta...</td>\n",
       "      <td>value_float</td>\n",
       "    </tr>\n",
       "    <tr>\n",
       "      <th>1</th>\n",
       "      <td></td>\n",
       "      <td>system.memory.usage</td>\n",
       "      <td>Bytes of memory in use.</td>\n",
       "      <td>value_int</td>\n",
       "    </tr>\n",
       "    <tr>\n",
       "      <th>2</th>\n",
       "      <td>connect-metrics</td>\n",
       "      <td>go_goroutines</td>\n",
       "      <td>Number of goroutines that currently exist.</td>\n",
       "      <td>value_float</td>\n",
       "    </tr>\n",
       "    <tr>\n",
       "      <th>3</th>\n",
       "      <td>connect-metrics</td>\n",
       "      <td>go_info</td>\n",
       "      <td>Information about the Go environment.</td>\n",
       "      <td>value_float</td>\n",
       "    </tr>\n",
       "    <tr>\n",
       "      <th>4</th>\n",
       "      <td>connect-metrics</td>\n",
       "      <td>go_memstats_alloc_bytes</td>\n",
       "      <td>Number of bytes allocated and still in use.</td>\n",
       "      <td>value_float</td>\n",
       "    </tr>\n",
       "    <tr>\n",
       "      <th>...</th>\n",
       "      <td>...</td>\n",
       "      <td>...</td>\n",
       "      <td>...</td>\n",
       "      <td>...</td>\n",
       "    </tr>\n",
       "    <tr>\n",
       "      <th>176</th>\n",
       "      <td>workbench-metrics</td>\n",
       "      <td>scrape_series_added</td>\n",
       "      <td>The approximate number of new series in this s...</td>\n",
       "      <td>value_float</td>\n",
       "    </tr>\n",
       "    <tr>\n",
       "      <th>177</th>\n",
       "      <td>workbench-metrics</td>\n",
       "      <td>statsd_metric_mapper_cache_gets_total</td>\n",
       "      <td>The count of total metric cache gets.</td>\n",
       "      <td>value_float</td>\n",
       "    </tr>\n",
       "    <tr>\n",
       "      <th>178</th>\n",
       "      <td>workbench-metrics</td>\n",
       "      <td>statsd_metric_mapper_cache_hits_total</td>\n",
       "      <td>The count of total metric cache hits.</td>\n",
       "      <td>value_float</td>\n",
       "    </tr>\n",
       "    <tr>\n",
       "      <th>179</th>\n",
       "      <td>workbench-metrics</td>\n",
       "      <td>statsd_metric_mapper_cache_length</td>\n",
       "      <td>The count of unique metrics currently cached.</td>\n",
       "      <td>value_float</td>\n",
       "    </tr>\n",
       "    <tr>\n",
       "      <th>180</th>\n",
       "      <td>workbench-metrics</td>\n",
       "      <td>up</td>\n",
       "      <td>The scraping was successful</td>\n",
       "      <td>value_float</td>\n",
       "    </tr>\n",
       "  </tbody>\n",
       "</table>\n",
       "<p>181 rows × 4 columns</p>\n",
       "</div>"
      ],
      "text/plain": [
       "               service                                   name  \\\n",
       "0                                             system.cpu.time   \n",
       "1                                         system.memory.usage   \n",
       "2      connect-metrics                          go_goroutines   \n",
       "3      connect-metrics                                go_info   \n",
       "4      connect-metrics                go_memstats_alloc_bytes   \n",
       "..                 ...                                    ...   \n",
       "176  workbench-metrics                    scrape_series_added   \n",
       "177  workbench-metrics  statsd_metric_mapper_cache_gets_total   \n",
       "178  workbench-metrics  statsd_metric_mapper_cache_hits_total   \n",
       "179  workbench-metrics      statsd_metric_mapper_cache_length   \n",
       "180  workbench-metrics                                     up   \n",
       "\n",
       "                                           description value_column  \n",
       "0    Total CPU seconds broken down by different sta...  value_float  \n",
       "1                              Bytes of memory in use.    value_int  \n",
       "2           Number of goroutines that currently exist.  value_float  \n",
       "3                Information about the Go environment.  value_float  \n",
       "4          Number of bytes allocated and still in use.  value_float  \n",
       "..                                                 ...          ...  \n",
       "176  The approximate number of new series in this s...  value_float  \n",
       "177              The count of total metric cache gets.  value_float  \n",
       "178              The count of total metric cache hits.  value_float  \n",
       "179      The count of unique metrics currently cached.  value_float  \n",
       "180                        The scraping was successful  value_float  \n",
       "\n",
       "[181 rows x 4 columns]"
      ]
     },
     "execution_count": null,
     "metadata": {},
     "output_type": "execute_result"
    }
   ],
   "source": [
    "\n",
    "m = scan_chronicle_metrics(\"./data\", \"2023/04/03\").metrics.describe()\n",
    "assert list(m) == ['service', 'name', 'description', 'value_column']\n",
    "m"
   ]
  },
  {
   "attachments": {},
   "cell_type": "markdown",
   "metadata": {},
   "source": [
    "Use `.metrics.filter()` to filter the DataFrame on the `name` column."
   ]
  },
  {
   "cell_type": "code",
   "execution_count": null,
   "metadata": {},
   "outputs": [],
   "source": [
    "#| export\n",
    "@patch\n",
    "def filter(self: ChronicleMetrics, \n",
    "        name:str, # name of metric to extract\n",
    "        service:str = None, # service to extract metric from\n",
    "        alias:str = None # alias to use for new column\n",
    "    ) -> pd.DataFrame:\n",
    "    \"Extract a single metric from a metrics dataframe\"\n",
    "    if alias == None:\n",
    "        alias = name\n",
    "    \n",
    "    df = (\n",
    "        self._ldf\n",
    "        .filter(\n",
    "            pl.col(\"name\") == name\n",
    "        )\n",
    "    )\n",
    "    \n",
    "    if service != None:\n",
    "        df = df.filter(pl.col(\"service\") == service) \n",
    "    \n",
    "    return (\n",
    "        df\n",
    "        .sort(pl.col(\"host\"), pl.col(\"timestamp\"))\n",
    "        .select([\n",
    "            \"host\",\n",
    "            pl.col(\"timestamp\"),\n",
    "            pl.col(\"value_float\").alias(alias)\n",
    "        ])\n",
    "        .collect()\n",
    "        .to_pandas()\n",
    "    )\n"
   ]
  },
  {
   "cell_type": "code",
   "execution_count": null,
   "metadata": {},
   "outputs": [],
   "source": [
    "m = scan_chronicle_metrics(\"./data\", \"2023/04/03\").metrics.filter(\"rsconnect_system_memory_used\")\n",
    "assert type(m) == pd.DataFrame\n",
    "assert list(m) == ['host', 'timestamp', 'rsconnect_system_memory_used']\n",
    "\n",
    "m = scan_chronicle_metrics(\"./data\", \"2023/04/03\").metrics.filter(\"rsconnect_system_memory_used\", alias=\"memory\")\n",
    "assert type(m) == pd.DataFrame\n",
    "assert list(m) == ['host', 'timestamp', 'memory']\n",
    "\n",
    "m = scan_chronicle_metrics(\"./data\", \"2023/04/03\").metrics.filter(\"rsconnect_system_memory_used\", service = \"connect-metrics\", alias = \"memory\")\n",
    "assert type(m) == pd.DataFrame\n",
    "assert list(m) == ['host', 'timestamp', 'memory']\n"
   ]
  },
  {
   "attachments": {},
   "cell_type": "markdown",
   "metadata": {},
   "source": [
    "You can plot a single metric using `.metrics.plot()`."
   ]
  },
  {
   "cell_type": "code",
   "execution_count": null,
   "metadata": {},
   "outputs": [],
   "source": [
    "#| export\n",
    "import altair as alt\n",
    "@patch\n",
    "def plot(\n",
    "        self:ChronicleMetrics, # metrics dataframe\n",
    "        name:str, # name of metric to extract\n",
    "        service:str = None, # service to extract metric from\n",
    "        title:str = None, # title of plot\n",
    "        alias:str = None, # alias to use for new column\n",
    "        engine: str = \"altair\" # plotting engine to use - either plotly or altair\n",
    "    ) -> px.line: \n",
    "    \"Plot a selected metric using a Plotly line plot\"\n",
    "\n",
    "    if alias == None:\n",
    "        alias = name\n",
    "\n",
    "    if title == None:\n",
    "        title = alias\n",
    "\n",
    "    dat = self._ldf.metrics.filter(name, service=service, alias=alias)\n",
    "\n",
    "    if engine == 'altair':\n",
    "        fig = (\n",
    "            alt.Chart(dat, title = title)\n",
    "            .mark_line()\n",
    "            .encode(\n",
    "                x = 'timestamp',\n",
    "                y = alias,\n",
    "                color = \"host\"\n",
    "            )\n",
    "        )\n",
    "    else:\n",
    "        fig = px.line(dat, x='timestamp', y=alias, line_group=\"host\", color=\"host\", title=title)\n",
    "    \n",
    "    return fig\n",
    "\n"
   ]
  },
  {
   "cell_type": "code",
   "execution_count": null,
   "metadata": {},
   "outputs": [
    {
     "data": {
      "text/html": [
       "\n",
       "<style>\n",
       "  #altair-viz-8ca118dd7c6b4e5a8b437bb96cc5274d.vega-embed {\n",
       "    width: 100%;\n",
       "    display: flex;\n",
       "  }\n",
       "\n",
       "  #altair-viz-8ca118dd7c6b4e5a8b437bb96cc5274d.vega-embed details,\n",
       "  #altair-viz-8ca118dd7c6b4e5a8b437bb96cc5274d.vega-embed details summary {\n",
       "    position: relative;\n",
       "  }\n",
       "</style>\n",
       "<div id=\"altair-viz-8ca118dd7c6b4e5a8b437bb96cc5274d\"></div>\n",
       "<script type=\"text/javascript\">\n",
       "  var VEGA_DEBUG = (typeof VEGA_DEBUG == \"undefined\") ? {} : VEGA_DEBUG;\n",
       "  (function(spec, embedOpt){\n",
       "    let outputDiv = document.currentScript.previousElementSibling;\n",
       "    if (outputDiv.id !== \"altair-viz-8ca118dd7c6b4e5a8b437bb96cc5274d\") {\n",
       "      outputDiv = document.getElementById(\"altair-viz-8ca118dd7c6b4e5a8b437bb96cc5274d\");\n",
       "    }\n",
       "    const paths = {\n",
       "      \"vega\": \"https://cdn.jsdelivr.net/npm/vega@5?noext\",\n",
       "      \"vega-lib\": \"https://cdn.jsdelivr.net/npm/vega-lib?noext\",\n",
       "      \"vega-lite\": \"https://cdn.jsdelivr.net/npm/vega-lite@5.8.0?noext\",\n",
       "      \"vega-embed\": \"https://cdn.jsdelivr.net/npm/vega-embed@6?noext\",\n",
       "    };\n",
       "\n",
       "    function maybeLoadScript(lib, version) {\n",
       "      var key = `${lib.replace(\"-\", \"\")}_version`;\n",
       "      return (VEGA_DEBUG[key] == version) ?\n",
       "        Promise.resolve(paths[lib]) :\n",
       "        new Promise(function(resolve, reject) {\n",
       "          var s = document.createElement('script');\n",
       "          document.getElementsByTagName(\"head\")[0].appendChild(s);\n",
       "          s.async = true;\n",
       "          s.onload = () => {\n",
       "            VEGA_DEBUG[key] = version;\n",
       "            return resolve(paths[lib]);\n",
       "          };\n",
       "          s.onerror = () => reject(`Error loading script: ${paths[lib]}`);\n",
       "          s.src = paths[lib];\n",
       "        });\n",
       "    }\n",
       "\n",
       "    function showError(err) {\n",
       "      outputDiv.innerHTML = `<div class=\"error\" style=\"color:red;\">${err}</div>`;\n",
       "      throw err;\n",
       "    }\n",
       "\n",
       "    function displayChart(vegaEmbed) {\n",
       "      vegaEmbed(outputDiv, spec, embedOpt)\n",
       "        .catch(err => showError(`Javascript Error: ${err.message}<br>This usually means there's a typo in your chart specification. See the javascript console for the full traceback.`));\n",
       "    }\n",
       "\n",
       "    if(typeof define === \"function\" && define.amd) {\n",
       "      requirejs.config({paths});\n",
       "      require([\"vega-embed\"], displayChart, err => showError(`Error loading script: ${err.message}`));\n",
       "    } else {\n",
       "      maybeLoadScript(\"vega\", \"5\")\n",
       "        .then(() => maybeLoadScript(\"vega-lite\", \"5.8.0\"))\n",
       "        .then(() => maybeLoadScript(\"vega-embed\", \"6\"))\n",
       "        .catch(showError)\n",
       "        .then(() => displayChart(vegaEmbed));\n",
       "    }\n",
       "  })({\"config\": {\"view\": {\"continuousWidth\": 300, \"continuousHeight\": 300}}, \"data\": {\"name\": \"data-9a8c2c764a11053d998767bbf0aa1403\"}, \"mark\": {\"type\": \"line\"}, \"encoding\": {\"color\": {\"field\": \"host\", \"type\": \"nominal\"}, \"x\": {\"field\": \"timestamp\", \"type\": \"temporal\"}, \"y\": {\"field\": \"memory\", \"type\": \"quantitative\"}}, \"title\": \"memory\", \"$schema\": \"https://vega.github.io/schema/vega-lite/v5.8.0.json\", \"datasets\": {\"data-9a8c2c764a11053d998767bbf0aa1403\": [{\"host\": \"rstudio-connect-68785f94cc-qzvrm\", \"timestamp\": \"2023-04-03T16:00:29.980000\", \"memory\": 1170264064.0}, {\"host\": \"rstudio-connect-68785f94cc-qzvrm\", \"timestamp\": \"2023-04-03T16:01:29.980000\", \"memory\": 1187889152.0}, {\"host\": \"rstudio-connect-68785f94cc-qzvrm\", \"timestamp\": \"2023-04-03T16:02:29.980000\", \"memory\": 1188659200.0}, {\"host\": \"rstudio-connect-68785f94cc-qzvrm\", \"timestamp\": \"2023-04-03T16:03:29.980000\", \"memory\": 1252347904.0}, {\"host\": \"rstudio-connect-68785f94cc-qzvrm\", \"timestamp\": \"2023-04-03T16:04:29.980000\", \"memory\": 1259855872.0}, {\"host\": \"rstudio-connect-68785f94cc-qzvrm\", \"timestamp\": \"2023-04-03T16:05:29.980000\", \"memory\": 1268285440.0}, {\"host\": \"rstudio-connect-68785f94cc-qzvrm\", \"timestamp\": \"2023-04-03T16:06:29.980000\", \"memory\": 1343311872.0}, {\"host\": \"rstudio-connect-68785f94cc-qzvrm\", \"timestamp\": \"2023-04-03T16:07:29.980000\", \"memory\": 1343311872.0}, {\"host\": \"rstudio-connect-68785f94cc-qzvrm\", \"timestamp\": \"2023-04-03T16:08:29.980000\", \"memory\": 1365434368.0}, {\"host\": \"rstudio-connect-68785f94cc-qzvrm\", \"timestamp\": \"2023-04-03T16:09:29.980000\", \"memory\": 1450541056.0}, {\"host\": \"rstudio-connect-68785f94cc-qzvrm\", \"timestamp\": \"2023-04-03T16:10:29.980000\", \"memory\": 1450541056.0}, {\"host\": \"rstudio-connect-68785f94cc-qzvrm\", \"timestamp\": \"2023-04-03T16:11:29.980000\", \"memory\": 1477931008.0}, {\"host\": \"rstudio-connect-68785f94cc-qzvrm\", \"timestamp\": \"2023-04-03T16:12:29.980000\", \"memory\": 1522606080.0}, {\"host\": \"rstudio-connect-68785f94cc-qzvrm\", \"timestamp\": \"2023-04-03T16:13:29.980000\", \"memory\": 1576771584.0}, {\"host\": \"rstudio-connect-68785f94cc-qzvrm\", \"timestamp\": \"2023-04-03T16:14:29.980000\", \"memory\": 1603035136.0}, {\"host\": \"rstudio-connect-68785f94cc-qzvrm\", \"timestamp\": \"2023-04-03T16:15:29.980000\", \"memory\": 1618530304.0}, {\"host\": \"rstudio-connect-68785f94cc-qzvrm\", \"timestamp\": \"2023-04-03T16:16:29.980000\", \"memory\": 1722576896.0}, {\"host\": \"rstudio-connect-68785f94cc-qzvrm\", \"timestamp\": \"2023-04-03T16:17:29.980000\", \"memory\": 1730744320.0}, {\"host\": \"rstudio-connect-68785f94cc-qzvrm\", \"timestamp\": \"2023-04-03T16:18:29.980000\", \"memory\": 1754931200.0}, {\"host\": \"rstudio-connect-68785f94cc-qzvrm\", \"timestamp\": \"2023-04-03T16:19:29.980000\", \"memory\": 1882857472.0}, {\"host\": \"rstudio-connect-68785f94cc-qzvrm\", \"timestamp\": \"2023-04-03T16:20:29.980000\", \"memory\": 1882959872.0}, {\"host\": \"rstudio-connect-68785f94cc-qzvrm\", \"timestamp\": \"2023-04-03T16:21:29.980000\", \"memory\": 1916497920.0}, {\"host\": \"rstudio-connect-68785f94cc-qzvrm\", \"timestamp\": \"2023-04-03T16:22:29.980000\", \"memory\": 704708608.0}, {\"host\": \"rstudio-connect-68785f94cc-qzvrm\", \"timestamp\": \"2023-04-03T16:23:29.980000\", \"memory\": 704708608.0}, {\"host\": \"rstudio-connect-68785f94cc-qzvrm\", \"timestamp\": \"2023-04-03T16:24:29.980000\", \"memory\": 704741376.0}, {\"host\": \"rstudio-connect-68785f94cc-qzvrm\", \"timestamp\": \"2023-04-03T16:25:29.980000\", \"memory\": 705003520.0}, {\"host\": \"rstudio-connect-68785f94cc-qzvrm\", \"timestamp\": \"2023-04-03T16:26:29.980000\", \"memory\": 705003520.0}, {\"host\": \"rstudio-connect-68785f94cc-qzvrm\", \"timestamp\": \"2023-04-03T16:27:29.980000\", \"memory\": 705003520.0}, {\"host\": \"rstudio-connect-68785f94cc-qzvrm\", \"timestamp\": \"2023-04-03T16:28:29.980000\", \"memory\": 707346432.0}, {\"host\": \"rstudio-connect-68785f94cc-qzvrm\", \"timestamp\": \"2023-04-03T16:29:29.980000\", \"memory\": 708857856.0}, {\"host\": \"rstudio-connect-68785f94cc-qzvrm\", \"timestamp\": \"2023-04-03T16:30:29.980000\", \"memory\": 708870144.0}, {\"host\": \"rstudio-connect-68785f94cc-qzvrm\", \"timestamp\": \"2023-04-03T16:31:29.980000\", \"memory\": 709390336.0}, {\"host\": \"rstudio-connect-68785f94cc-qzvrm\", \"timestamp\": \"2023-04-03T16:32:29.980000\", \"memory\": 709480448.0}, {\"host\": \"rstudio-connect-68785f94cc-qzvrm\", \"timestamp\": \"2023-04-03T16:33:29.980000\", \"memory\": 709480448.0}, {\"host\": \"rstudio-connect-68785f94cc-qzvrm\", \"timestamp\": \"2023-04-03T16:34:29.980000\", \"memory\": 709509120.0}, {\"host\": \"rstudio-connect-68785f94cc-qzvrm\", \"timestamp\": \"2023-04-03T16:35:29.980000\", \"memory\": 710950912.0}, {\"host\": \"rstudio-connect-68785f94cc-qzvrm\", \"timestamp\": \"2023-04-03T16:36:29.980000\", \"memory\": 710934528.0}, {\"host\": \"rstudio-connect-68785f94cc-qzvrm\", \"timestamp\": \"2023-04-03T16:37:29.980000\", \"memory\": 710959104.0}, {\"host\": \"rstudio-connect-68785f94cc-qzvrm\", \"timestamp\": \"2023-04-03T16:38:29.980000\", \"memory\": 713043968.0}, {\"host\": \"rstudio-connect-68785f94cc-qzvrm\", \"timestamp\": \"2023-04-03T16:39:29.980000\", \"memory\": 713043968.0}, {\"host\": \"rstudio-connect-68785f94cc-qzvrm\", \"timestamp\": \"2023-04-03T16:40:29.980000\", \"memory\": 713076736.0}, {\"host\": \"rstudio-connect-68785f94cc-qzvrm\", \"timestamp\": \"2023-04-03T16:41:29.980000\", \"memory\": 716607488.0}, {\"host\": \"rstudio-connect-68785f94cc-qzvrm\", \"timestamp\": \"2023-04-03T16:42:29.980000\", \"memory\": 716607488.0}, {\"host\": \"rstudio-connect-68785f94cc-qzvrm\", \"timestamp\": \"2023-04-03T16:43:29.980000\", \"memory\": 716955648.0}, {\"host\": \"rstudio-connect-68785f94cc-qzvrm\", \"timestamp\": \"2023-04-03T16:44:29.980000\", \"memory\": 720896000.0}, {\"host\": \"rstudio-connect-68785f94cc-qzvrm\", \"timestamp\": \"2023-04-03T16:45:29.980000\", \"memory\": 720896000.0}, {\"host\": \"rstudio-connect-68785f94cc-qzvrm\", \"timestamp\": \"2023-04-03T16:46:29.980000\", \"memory\": 721788928.0}, {\"host\": \"rstudio-connect-68785f94cc-qzvrm\", \"timestamp\": \"2023-04-03T16:47:29.980000\", \"memory\": 723681280.0}, {\"host\": \"rstudio-connect-68785f94cc-qzvrm\", \"timestamp\": \"2023-04-03T16:48:29.980000\", \"memory\": 726511616.0}, {\"host\": \"rstudio-connect-68785f94cc-qzvrm\", \"timestamp\": \"2023-04-03T16:49:29.980000\", \"memory\": 726540288.0}, {\"host\": \"rstudio-connect-68785f94cc-qzvrm\", \"timestamp\": \"2023-04-03T16:50:29.980000\", \"memory\": 728035328.0}, {\"host\": \"rstudio-connect-68785f94cc-qzvrm\", \"timestamp\": \"2023-04-03T16:51:29.980000\", \"memory\": 734068736.0}, {\"host\": \"rstudio-connect-68785f94cc-qzvrm\", \"timestamp\": \"2023-04-03T16:52:29.980000\", \"memory\": 734130176.0}, {\"host\": \"rstudio-connect-68785f94cc-qzvrm\", \"timestamp\": \"2023-04-03T16:53:29.980000\", \"memory\": 734134272.0}, {\"host\": \"rstudio-connect-68785f94cc-qzvrm\", \"timestamp\": \"2023-04-03T16:54:29.980000\", \"memory\": 742666240.0}, {\"host\": \"rstudio-connect-68785f94cc-qzvrm\", \"timestamp\": \"2023-04-03T16:55:29.980000\", \"memory\": 742735872.0}, {\"host\": \"rstudio-connect-68785f94cc-qzvrm\", \"timestamp\": \"2023-04-03T16:56:29.980000\", \"memory\": 742739968.0}, {\"host\": \"rstudio-connect-68785f94cc-qzvrm\", \"timestamp\": \"2023-04-03T16:57:29.980000\", \"memory\": 752996352.0}, {\"host\": \"rstudio-connect-68785f94cc-qzvrm\", \"timestamp\": \"2023-04-03T16:58:29.980000\", \"memory\": 753164288.0}, {\"host\": \"rstudio-connect-68785f94cc-qzvrm\", \"timestamp\": \"2023-04-03T16:59:29.980000\", \"memory\": 753102848.0}, {\"host\": \"rstudio-connect-68785f94cc-qzvrm\", \"timestamp\": \"2023-04-03T17:00:29.980000\", \"memory\": 757706752.0}, {\"host\": \"rstudio-connect-68785f94cc-qzvrm\", \"timestamp\": \"2023-04-03T17:01:29.980000\", \"memory\": 766046208.0}, {\"host\": \"rstudio-connect-68785f94cc-qzvrm\", \"timestamp\": \"2023-04-03T17:02:29.980000\", \"memory\": 766099456.0}, {\"host\": \"rstudio-connect-68785f94cc-qzvrm\", \"timestamp\": \"2023-04-03T17:03:29.980000\", \"memory\": 766377984.0}, {\"host\": \"rstudio-connect-68785f94cc-qzvrm\", \"timestamp\": \"2023-04-03T17:04:29.980000\", \"memory\": 779907072.0}, {\"host\": \"rstudio-connect-68785f94cc-qzvrm\", \"timestamp\": \"2023-04-03T17:05:29.980000\", \"memory\": 779890688.0}, {\"host\": \"rstudio-connect-68785f94cc-qzvrm\", \"timestamp\": \"2023-04-03T17:06:29.980000\", \"memory\": 779890688.0}, {\"host\": \"rstudio-connect-68785f94cc-qzvrm\", \"timestamp\": \"2023-04-03T17:07:29.980000\", \"memory\": 797933568.0}, {\"host\": \"rstudio-connect-68785f94cc-qzvrm\", \"timestamp\": \"2023-04-03T17:08:29.980000\", \"memory\": 797937664.0}, {\"host\": \"rstudio-connect-68785f94cc-qzvrm\", \"timestamp\": \"2023-04-03T17:09:29.980000\", \"memory\": 797937664.0}, {\"host\": \"rstudio-connect-68785f94cc-qzvrm\", \"timestamp\": \"2023-04-03T17:10:29.980000\", \"memory\": 820764672.0}, {\"host\": \"rstudio-connect-68785f94cc-qzvrm\", \"timestamp\": \"2023-04-03T17:11:29.980000\", \"memory\": 820768768.0}, {\"host\": \"rstudio-connect-68785f94cc-qzvrm\", \"timestamp\": \"2023-04-03T17:12:29.980000\", \"memory\": 820768768.0}, {\"host\": \"rstudio-connect-68785f94cc-qzvrm\", \"timestamp\": \"2023-04-03T17:13:29.980000\", \"memory\": 838111232.0}, {\"host\": \"rstudio-connect-68785f94cc-qzvrm\", \"timestamp\": \"2023-04-03T17:14:29.980000\", \"memory\": 853766144.0}, {\"host\": \"rstudio-connect-68785f94cc-qzvrm\", \"timestamp\": \"2023-04-03T17:15:29.980000\", \"memory\": 853770240.0}, {\"host\": \"rstudio-connect-68785f94cc-qzvrm\", \"timestamp\": \"2023-04-03T17:16:29.980000\", \"memory\": 855449600.0}, {\"host\": \"rstudio-connect-68785f94cc-qzvrm\", \"timestamp\": \"2023-04-03T17:17:29.980000\", \"memory\": 884809728.0}, {\"host\": \"rstudio-connect-68785f94cc-qzvrm\", \"timestamp\": \"2023-04-03T17:18:29.980000\", \"memory\": 884776960.0}, {\"host\": \"rstudio-connect-68785f94cc-qzvrm\", \"timestamp\": \"2023-04-03T17:19:29.980000\", \"memory\": 884965376.0}, {\"host\": \"rstudio-connect-68785f94cc-qzvrm\", \"timestamp\": \"2023-04-03T17:20:29.980000\", \"memory\": 920825856.0}, {\"host\": \"rstudio-connect-68785f94cc-qzvrm\", \"timestamp\": \"2023-04-03T17:21:29.980000\", \"memory\": 920829952.0}, {\"host\": \"rstudio-connect-68785f94cc-qzvrm\", \"timestamp\": \"2023-04-03T17:22:29.980000\", \"memory\": 920879104.0}, {\"host\": \"rstudio-connect-68785f94cc-qzvrm\", \"timestamp\": \"2023-04-03T17:23:29.980000\", \"memory\": 963883008.0}, {\"host\": \"rstudio-connect-68785f94cc-qzvrm\", \"timestamp\": \"2023-04-03T17:24:29.980000\", \"memory\": 963846144.0}, {\"host\": \"rstudio-connect-68785f94cc-qzvrm\", \"timestamp\": \"2023-04-03T17:25:29.980000\", \"memory\": 963870720.0}, {\"host\": \"rstudio-connect-68785f94cc-qzvrm\", \"timestamp\": \"2023-04-03T17:26:29.980000\", \"memory\": 983003136.0}, {\"host\": \"rstudio-connect-68785f94cc-qzvrm\", \"timestamp\": \"2023-04-03T17:27:29.980000\", \"memory\": 1016037376.0}, {\"host\": \"rstudio-connect-68785f94cc-qzvrm\", \"timestamp\": \"2023-04-03T17:28:29.980000\", \"memory\": 1016254464.0}, {\"host\": \"rstudio-connect-68785f94cc-qzvrm\", \"timestamp\": \"2023-04-03T17:29:29.980000\", \"memory\": 1017622528.0}, {\"host\": \"rstudio-connect-68785f94cc-qzvrm\", \"timestamp\": \"2023-04-03T17:30:29.980000\", \"memory\": 1078067200.0}, {\"host\": \"rstudio-connect-68785f94cc-qzvrm\", \"timestamp\": \"2023-04-03T17:31:29.980000\", \"memory\": 1079017472.0}, {\"host\": \"rstudio-connect-68785f94cc-qzvrm\", \"timestamp\": \"2023-04-03T17:32:29.980000\", \"memory\": 1079136256.0}, {\"host\": \"rstudio-connect-68785f94cc-qzvrm\", \"timestamp\": \"2023-04-03T17:33:29.980000\", \"memory\": 1147351040.0}, {\"host\": \"rstudio-connect-68785f94cc-qzvrm\", \"timestamp\": \"2023-04-03T17:34:29.980000\", \"memory\": 1147482112.0}, {\"host\": \"rstudio-connect-68785f94cc-qzvrm\", \"timestamp\": \"2023-04-03T17:35:29.980000\", \"memory\": 1147482112.0}, {\"host\": \"rstudio-connect-68785f94cc-qzvrm\", \"timestamp\": \"2023-04-03T17:36:29.980000\", \"memory\": 1218580480.0}, {\"host\": \"rstudio-connect-68785f94cc-qzvrm\", \"timestamp\": \"2023-04-03T17:37:29.980000\", \"memory\": 1223917568.0}, {\"host\": \"rstudio-connect-68785f94cc-qzvrm\", \"timestamp\": \"2023-04-03T17:38:29.980000\", \"memory\": 1223917568.0}, {\"host\": \"rstudio-connect-68785f94cc-qzvrm\", \"timestamp\": \"2023-04-03T17:39:29.980000\", \"memory\": 1254522880.0}, {\"host\": \"rstudio-connect-68785f94cc-qzvrm\", \"timestamp\": \"2023-04-03T17:40:29.980000\", \"memory\": 1313800192.0}, {\"host\": \"rstudio-connect-68785f94cc-qzvrm\", \"timestamp\": \"2023-04-03T17:41:29.980000\", \"memory\": 1313787904.0}, {\"host\": \"rstudio-connect-68785f94cc-qzvrm\", \"timestamp\": \"2023-04-03T17:42:29.980000\", \"memory\": 1317900288.0}, {\"host\": \"rstudio-connect-68785f94cc-qzvrm\", \"timestamp\": \"2023-04-03T17:43:29.980000\", \"memory\": 714739712.0}, {\"host\": \"rstudio-connect-68785f94cc-qzvrm\", \"timestamp\": \"2023-04-03T17:44:29.980000\", \"memory\": 714719232.0}, {\"host\": \"rstudio-connect-68785f94cc-qzvrm\", \"timestamp\": \"2023-04-03T17:45:29.980000\", \"memory\": 714719232.0}, {\"host\": \"rstudio-connect-68785f94cc-qzvrm\", \"timestamp\": \"2023-04-03T17:46:29.980000\", \"memory\": 715210752.0}, {\"host\": \"rstudio-connect-68785f94cc-qzvrm\", \"timestamp\": \"2023-04-03T17:47:29.980000\", \"memory\": 715223040.0}, {\"host\": \"rstudio-connect-68785f94cc-qzvrm\", \"timestamp\": \"2023-04-03T17:48:29.980000\", \"memory\": 715091968.0}, {\"host\": \"rstudio-connect-68785f94cc-qzvrm\", \"timestamp\": \"2023-04-03T17:49:29.980000\", \"memory\": 715247616.0}, {\"host\": \"rstudio-connect-68785f94cc-qzvrm\", \"timestamp\": \"2023-04-03T17:50:29.980000\", \"memory\": 715247616.0}, {\"host\": \"rstudio-connect-68785f94cc-qzvrm\", \"timestamp\": \"2023-04-03T17:51:29.980000\", \"memory\": 715272192.0}, {\"host\": \"rstudio-connect-68785f94cc-qzvrm\", \"timestamp\": \"2023-04-03T17:52:29.980000\", \"memory\": 715833344.0}, {\"host\": \"rstudio-connect-68785f94cc-qzvrm\", \"timestamp\": \"2023-04-03T17:53:29.980000\", \"memory\": 715816960.0}, {\"host\": \"rstudio-connect-68785f94cc-qzvrm\", \"timestamp\": \"2023-04-03T17:54:29.980000\", \"memory\": 715816960.0}, {\"host\": \"rstudio-connect-68785f94cc-qzvrm\", \"timestamp\": \"2023-04-03T17:55:29.980000\", \"memory\": 716259328.0}, {\"host\": \"rstudio-connect-68785f94cc-qzvrm\", \"timestamp\": \"2023-04-03T17:56:29.980000\", \"memory\": 716263424.0}, {\"host\": \"rstudio-connect-68785f94cc-qzvrm\", \"timestamp\": \"2023-04-03T17:57:29.980000\", \"memory\": 716271616.0}, {\"host\": \"rstudio-connect-68785f94cc-qzvrm\", \"timestamp\": \"2023-04-03T17:58:29.980000\", \"memory\": 718594048.0}, {\"host\": \"rstudio-connect-68785f94cc-qzvrm\", \"timestamp\": \"2023-04-03T17:59:29.980000\", \"memory\": 723066880.0}, {\"host\": \"rstudio-connect-68785f94cc-qzvrm\", \"timestamp\": \"2023-04-03T18:00:29.980000\", \"memory\": 722931712.0}, {\"host\": \"rstudio-connect-68785f94cc-qzvrm\", \"timestamp\": \"2023-04-03T18:01:29.980000\", \"memory\": 724180992.0}, {\"host\": \"rstudio-connect-68785f94cc-qzvrm\", \"timestamp\": \"2023-04-03T18:02:29.980000\", \"memory\": 724434944.0}, {\"host\": \"rstudio-connect-68785f94cc-qzvrm\", \"timestamp\": \"2023-04-03T18:03:29.980000\", \"memory\": 724402176.0}, {\"host\": \"rstudio-connect-68785f94cc-qzvrm\", \"timestamp\": \"2023-04-03T18:04:29.980000\", \"memory\": 725172224.0}, {\"host\": \"rstudio-connect-68785f94cc-qzvrm\", \"timestamp\": \"2023-04-03T18:05:29.980000\", \"memory\": 725934080.0}, {\"host\": \"rstudio-connect-68785f94cc-qzvrm\", \"timestamp\": \"2023-04-03T18:06:29.980000\", \"memory\": 725934080.0}, {\"host\": \"rstudio-connect-68785f94cc-qzvrm\", \"timestamp\": \"2023-04-03T18:07:29.980000\", \"memory\": 725975040.0}, {\"host\": \"rstudio-connect-68785f94cc-qzvrm\", \"timestamp\": \"2023-04-03T18:08:29.980000\", \"memory\": 728453120.0}, {\"host\": \"rstudio-connect-68785f94cc-qzvrm\", \"timestamp\": \"2023-04-03T18:09:29.980000\", \"memory\": 728453120.0}, {\"host\": \"rstudio-connect-68785f94cc-qzvrm\", \"timestamp\": \"2023-04-03T18:10:29.980000\", \"memory\": 728494080.0}, {\"host\": \"rstudio-connect-68785f94cc-qzvrm\", \"timestamp\": \"2023-04-03T18:11:29.980000\", \"memory\": 731766784.0}, {\"host\": \"rstudio-connect-68785f94cc-qzvrm\", \"timestamp\": \"2023-04-03T18:12:29.980000\", \"memory\": 731770880.0}, {\"host\": \"rstudio-connect-68785f94cc-qzvrm\", \"timestamp\": \"2023-04-03T18:13:29.980000\", \"memory\": 735305728.0}, {\"host\": \"rstudio-connect-68785f94cc-qzvrm\", \"timestamp\": \"2023-04-03T18:14:29.980000\", \"memory\": 738131968.0}, {\"host\": \"rstudio-connect-68785f94cc-qzvrm\", \"timestamp\": \"2023-04-03T18:15:29.980000\", \"memory\": 739069952.0}, {\"host\": \"rstudio-connect-68785f94cc-qzvrm\", \"timestamp\": \"2023-04-03T18:16:29.980000\", \"memory\": 739999744.0}, {\"host\": \"rstudio-connect-68785f94cc-qzvrm\", \"timestamp\": \"2023-04-03T18:17:29.980000\", \"memory\": 741404672.0}, {\"host\": \"rstudio-connect-68785f94cc-qzvrm\", \"timestamp\": \"2023-04-03T18:18:29.980000\", \"memory\": 743501824.0}, {\"host\": \"rstudio-connect-68785f94cc-qzvrm\", \"timestamp\": \"2023-04-03T18:19:29.980000\", \"memory\": 743522304.0}, {\"host\": \"rstudio-connect-68785f94cc-qzvrm\", \"timestamp\": \"2023-04-03T18:20:29.980000\", \"memory\": 743723008.0}, {\"host\": \"rstudio-connect-68785f94cc-qzvrm\", \"timestamp\": \"2023-04-03T18:21:29.980000\", \"memory\": 748703744.0}, {\"host\": \"rstudio-connect-68785f94cc-qzvrm\", \"timestamp\": \"2023-04-03T18:22:29.980000\", \"memory\": 748777472.0}, {\"host\": \"rstudio-connect-68785f94cc-qzvrm\", \"timestamp\": \"2023-04-03T18:23:29.980000\", \"memory\": 748761088.0}, {\"host\": \"rstudio-connect-68785f94cc-qzvrm\", \"timestamp\": \"2023-04-03T18:24:29.980000\", \"memory\": 754831360.0}, {\"host\": \"rstudio-connect-68785f94cc-qzvrm\", \"timestamp\": \"2023-04-03T18:25:29.980000\", \"memory\": 754987008.0}, {\"host\": \"rstudio-connect-68785f94cc-qzvrm\", \"timestamp\": \"2023-04-03T18:26:29.980000\", \"memory\": 754987008.0}, {\"host\": \"rstudio-connect-68785f94cc-qzvrm\", \"timestamp\": \"2023-04-03T18:27:29.980000\", \"memory\": 759238656.0}, {\"host\": \"rstudio-connect-68785f94cc-qzvrm\", \"timestamp\": \"2023-04-03T18:28:29.980000\", \"memory\": 763781120.0}, {\"host\": \"rstudio-connect-68785f94cc-qzvrm\", \"timestamp\": \"2023-04-03T18:29:29.980000\", \"memory\": 763760640.0}, {\"host\": \"rstudio-connect-68785f94cc-qzvrm\", \"timestamp\": \"2023-04-03T18:30:29.980000\", \"memory\": 768237568.0}, {\"host\": \"rstudio-connect-68785f94cc-qzvrm\", \"timestamp\": \"2023-04-03T18:31:29.980000\", \"memory\": 774959104.0}, {\"host\": \"rstudio-connect-68785f94cc-qzvrm\", \"timestamp\": \"2023-04-03T18:32:29.980000\", \"memory\": 775204864.0}, {\"host\": \"rstudio-connect-68785f94cc-qzvrm\", \"timestamp\": \"2023-04-03T18:33:29.980000\", \"memory\": 777351168.0}, {\"host\": \"rstudio-connect-68785f94cc-qzvrm\", \"timestamp\": \"2023-04-03T18:34:29.980000\", \"memory\": 788520960.0}, {\"host\": \"rstudio-connect-68785f94cc-qzvrm\", \"timestamp\": \"2023-04-03T18:35:29.980000\", \"memory\": 788520960.0}, {\"host\": \"rstudio-connect-68785f94cc-qzvrm\", \"timestamp\": \"2023-04-03T18:36:29.980000\", \"memory\": 788520960.0}, {\"host\": \"rstudio-connect-68785f94cc-qzvrm\", \"timestamp\": \"2023-04-03T18:37:29.980000\", \"memory\": 805187584.0}, {\"host\": \"rstudio-connect-68785f94cc-qzvrm\", \"timestamp\": \"2023-04-03T18:38:29.980000\", \"memory\": 805187584.0}, {\"host\": \"rstudio-connect-68785f94cc-qzvrm\", \"timestamp\": \"2023-04-03T18:39:29.980000\", \"memory\": 805154816.0}, {\"host\": \"rstudio-connect-68785f94cc-qzvrm\", \"timestamp\": \"2023-04-03T18:40:29.980000\", \"memory\": 816447488.0}, {\"host\": \"rstudio-connect-68785f94cc-qzvrm\", \"timestamp\": \"2023-04-03T18:41:29.980000\", \"memory\": 826286080.0}, {\"host\": \"rstudio-connect-68785f94cc-qzvrm\", \"timestamp\": \"2023-04-03T18:42:29.980000\", \"memory\": 826318848.0}, {\"host\": \"rstudio-connect-68785f94cc-qzvrm\", \"timestamp\": \"2023-04-03T18:43:29.980000\", \"memory\": 839405568.0}, {\"host\": \"rstudio-connect-68785f94cc-qzvrm\", \"timestamp\": \"2023-04-03T18:44:29.980000\", \"memory\": 855351296.0}, {\"host\": \"rstudio-connect-68785f94cc-qzvrm\", \"timestamp\": \"2023-04-03T18:45:29.980000\", \"memory\": 855339008.0}, {\"host\": \"rstudio-connect-68785f94cc-qzvrm\", \"timestamp\": \"2023-04-03T18:46:29.980000\", \"memory\": 858767360.0}, {\"host\": \"rstudio-connect-68785f94cc-qzvrm\", \"timestamp\": \"2023-04-03T18:47:29.980000\", \"memory\": 884379648.0}, {\"host\": \"rstudio-connect-68785f94cc-qzvrm\", \"timestamp\": \"2023-04-03T18:48:29.980000\", \"memory\": 884346880.0}, {\"host\": \"rstudio-connect-68785f94cc-qzvrm\", \"timestamp\": \"2023-04-03T18:49:29.980000\", \"memory\": 884486144.0}, {\"host\": \"rstudio-connect-68785f94cc-qzvrm\", \"timestamp\": \"2023-04-03T18:50:29.980000\", \"memory\": 908816384.0}, {\"host\": \"rstudio-connect-68785f94cc-qzvrm\", \"timestamp\": \"2023-04-03T18:51:29.980000\", \"memory\": 917233664.0}, {\"host\": \"rstudio-connect-68785f94cc-qzvrm\", \"timestamp\": \"2023-04-03T18:52:29.980000\", \"memory\": 917356544.0}, {\"host\": \"rstudio-connect-68785f94cc-qzvrm\", \"timestamp\": \"2023-04-03T18:53:29.980000\", \"memory\": 939249664.0}, {\"host\": \"rstudio-connect-68785f94cc-qzvrm\", \"timestamp\": \"2023-04-03T18:54:29.980000\", \"memory\": 956784640.0}, {\"host\": \"rstudio-connect-68785f94cc-qzvrm\", \"timestamp\": \"2023-04-03T18:55:29.980000\", \"memory\": 956858368.0}, {\"host\": \"rstudio-connect-68785f94cc-qzvrm\", \"timestamp\": \"2023-04-03T18:56:29.980000\", \"memory\": 970944512.0}, {\"host\": \"rstudio-connect-68785f94cc-qzvrm\", \"timestamp\": \"2023-04-03T18:57:29.980000\", \"memory\": 1004273664.0}, {\"host\": \"rstudio-connect-68785f94cc-qzvrm\", \"timestamp\": \"2023-04-03T18:58:29.980000\", \"memory\": 1004548096.0}, {\"host\": \"rstudio-connect-68785f94cc-qzvrm\", \"timestamp\": \"2023-04-03T18:59:29.980000\", \"memory\": 1013547008.0}, {\"host\": \"rstudio-connect-68785f94cc-qzvrm\", \"timestamp\": \"2023-04-03T19:00:29.980000\", \"memory\": 1068691456.0}, {\"host\": \"rstudio-connect-68785f94cc-qzvrm\", \"timestamp\": \"2023-04-03T19:01:29.980000\", \"memory\": 1069555712.0}, {\"host\": \"rstudio-connect-68785f94cc-qzvrm\", \"timestamp\": \"2023-04-03T19:02:29.980000\", \"memory\": 1069658112.0}, {\"host\": \"rstudio-connect-68785f94cc-qzvrm\", \"timestamp\": \"2023-04-03T19:03:29.980000\", \"memory\": 1117184000.0}, {\"host\": \"rstudio-connect-68785f94cc-qzvrm\", \"timestamp\": \"2023-04-03T19:04:29.980000\", \"memory\": 1136959488.0}, {\"host\": \"rstudio-connect-68785f94cc-qzvrm\", \"timestamp\": \"2023-04-03T19:05:29.980000\", \"memory\": 1136992256.0}, {\"host\": \"rstudio-connect-68785f94cc-qzvrm\", \"timestamp\": \"2023-04-03T19:06:29.980000\", \"memory\": 1174339584.0}, {\"host\": \"rstudio-connect-68785f94cc-qzvrm\", \"timestamp\": \"2023-04-03T19:07:29.980000\", \"memory\": 1218355200.0}, {\"host\": \"rstudio-connect-68785f94cc-qzvrm\", \"timestamp\": \"2023-04-03T19:08:29.980000\", \"memory\": 1218338816.0}, {\"host\": \"rstudio-connect-68785f94cc-qzvrm\", \"timestamp\": \"2023-04-03T19:09:29.980000\", \"memory\": 1235161088.0}, {\"host\": \"rstudio-connect-68785f94cc-qzvrm\", \"timestamp\": \"2023-04-03T19:10:29.980000\", \"memory\": 1316065280.0}, {\"host\": \"rstudio-connect-68785f94cc-qzvrm\", \"timestamp\": \"2023-04-03T19:11:29.980000\", \"memory\": 1316073472.0}, {\"host\": \"rstudio-connect-68785f94cc-qzvrm\", \"timestamp\": \"2023-04-03T19:12:29.980000\", \"memory\": 1324085248.0}, {\"host\": \"rstudio-connect-68785f94cc-qzvrm\", \"timestamp\": \"2023-04-03T19:13:29.980000\", \"memory\": 1437958144.0}, {\"host\": \"rstudio-connect-68785f94cc-qzvrm\", \"timestamp\": \"2023-04-03T19:14:29.980000\", \"memory\": 1439735808.0}, {\"host\": \"rstudio-connect-68785f94cc-qzvrm\", \"timestamp\": \"2023-04-03T19:15:29.980000\", \"memory\": 1440763904.0}, {\"host\": \"rstudio-connect-68785f94cc-qzvrm\", \"timestamp\": \"2023-04-03T19:16:29.980000\", \"memory\": 1534599168.0}, {\"host\": \"rstudio-connect-68785f94cc-qzvrm\", \"timestamp\": \"2023-04-03T19:17:29.980000\", \"memory\": 1569800192.0}, {\"host\": \"rstudio-connect-68785f94cc-qzvrm\", \"timestamp\": \"2023-04-03T19:18:29.980000\", \"memory\": 1569828864.0}, {\"host\": \"rstudio-connect-68785f94cc-qzvrm\", \"timestamp\": \"2023-04-03T19:19:29.980000\", \"memory\": 1630916608.0}, {\"host\": \"rstudio-connect-68785f94cc-qzvrm\", \"timestamp\": \"2023-04-03T19:20:29.980000\", \"memory\": 1717227520.0}, {\"host\": \"rstudio-connect-68785f94cc-qzvrm\", \"timestamp\": \"2023-04-03T19:21:29.980000\", \"memory\": 1717243904.0}, {\"host\": \"rstudio-connect-68785f94cc-qzvrm\", \"timestamp\": \"2023-04-03T19:22:29.980000\", \"memory\": 1744986112.0}, {\"host\": \"rstudio-connect-68785f94cc-qzvrm\", \"timestamp\": \"2023-04-03T19:23:29.980000\", \"memory\": 1889107968.0}, {\"host\": \"rstudio-connect-68785f94cc-qzvrm\", \"timestamp\": \"2023-04-03T19:24:29.980000\", \"memory\": 1889107968.0}, {\"host\": \"rstudio-connect-68785f94cc-qzvrm\", \"timestamp\": \"2023-04-03T19:25:29.980000\", \"memory\": 1901125632.0}, {\"host\": \"rstudio-connect-68785f94cc-qzvrm\", \"timestamp\": \"2023-04-03T19:26:29.980000\", \"memory\": 2078642176.0}, {\"host\": \"rstudio-connect-68785f94cc-qzvrm\", \"timestamp\": \"2023-04-03T19:27:29.980000\", \"memory\": 2087809024.0}, {\"host\": \"rstudio-connect-68785f94cc-qzvrm\", \"timestamp\": \"2023-04-03T19:28:29.980000\", \"memory\": 2090098688.0}, {\"host\": \"rstudio-connect-68785f94cc-qzvrm\", \"timestamp\": \"2023-04-03T19:29:29.980000\", \"memory\": 2249138176.0}, {\"host\": \"rstudio-connect-68785f94cc-qzvrm\", \"timestamp\": \"2023-04-03T19:30:29.980000\", \"memory\": 744538112.0}, {\"host\": \"rstudio-connect-68785f94cc-qzvrm\", \"timestamp\": \"2023-04-03T19:31:29.980000\", \"memory\": 755748864.0}, {\"host\": \"rstudio-connect-68785f94cc-qzvrm\", \"timestamp\": \"2023-04-03T19:32:29.980000\", \"memory\": 755748864.0}, {\"host\": \"rstudio-connect-68785f94cc-qzvrm\", \"timestamp\": \"2023-04-03T19:33:29.980000\", \"memory\": 755888128.0}, {\"host\": \"rstudio-connect-68785f94cc-qzvrm\", \"timestamp\": \"2023-04-03T19:34:29.980000\", \"memory\": 755896320.0}, {\"host\": \"rstudio-connect-68785f94cc-qzvrm\", \"timestamp\": \"2023-04-03T19:35:29.980000\", \"memory\": 755896320.0}, {\"host\": \"rstudio-connect-68785f94cc-qzvrm\", \"timestamp\": \"2023-04-03T19:36:29.980000\", \"memory\": 755912704.0}, {\"host\": \"rstudio-connect-68785f94cc-qzvrm\", \"timestamp\": \"2023-04-03T19:37:29.980000\", \"memory\": 755912704.0}, {\"host\": \"rstudio-connect-68785f94cc-qzvrm\", \"timestamp\": \"2023-04-03T19:38:29.980000\", \"memory\": 755912704.0}, {\"host\": \"rstudio-connect-68785f94cc-qzvrm\", \"timestamp\": \"2023-04-03T19:39:29.980000\", \"memory\": 755949568.0}, {\"host\": \"rstudio-connect-68785f94cc-qzvrm\", \"timestamp\": \"2023-04-03T19:40:29.980000\", \"memory\": 755949568.0}, {\"host\": \"rstudio-connect-68785f94cc-qzvrm\", \"timestamp\": \"2023-04-03T19:41:29.980000\", \"memory\": 755961856.0}, {\"host\": \"rstudio-connect-68785f94cc-qzvrm\", \"timestamp\": \"2023-04-03T19:42:29.980000\", \"memory\": 756457472.0}, {\"host\": \"rstudio-connect-68785f94cc-qzvrm\", \"timestamp\": \"2023-04-03T19:43:29.980000\", \"memory\": 756690944.0}, {\"host\": \"rstudio-connect-68785f94cc-qzvrm\", \"timestamp\": \"2023-04-03T19:44:29.980000\", \"memory\": 756502528.0}, {\"host\": \"rstudio-connect-68785f94cc-qzvrm\", \"timestamp\": \"2023-04-03T19:45:29.980000\", \"memory\": 757489664.0}, {\"host\": \"rstudio-connect-68785f94cc-qzvrm\", \"timestamp\": \"2023-04-03T19:46:29.980000\", \"memory\": 757481472.0}, {\"host\": \"rstudio-connect-68785f94cc-qzvrm\", \"timestamp\": \"2023-04-03T19:47:29.980000\", \"memory\": 757485568.0}, {\"host\": \"rstudio-connect-68785f94cc-qzvrm\", \"timestamp\": \"2023-04-03T19:48:29.980000\", \"memory\": 757948416.0}, {\"host\": \"rstudio-connect-68785f94cc-qzvrm\", \"timestamp\": \"2023-04-03T19:49:29.980000\", \"memory\": 757956608.0}, {\"host\": \"rstudio-connect-68785f94cc-qzvrm\", \"timestamp\": \"2023-04-03T19:50:29.980000\", \"memory\": 757956608.0}, {\"host\": \"rstudio-connect-68785f94cc-qzvrm\", \"timestamp\": \"2023-04-03T19:51:29.980000\", \"memory\": 759132160.0}, {\"host\": \"rstudio-connect-68785f94cc-qzvrm\", \"timestamp\": \"2023-04-03T19:52:29.980000\", \"memory\": 759250944.0}, {\"host\": \"rstudio-connect-68785f94cc-qzvrm\", \"timestamp\": \"2023-04-03T19:53:29.980000\", \"memory\": 759250944.0}, {\"host\": \"rstudio-connect-68785f94cc-qzvrm\", \"timestamp\": \"2023-04-03T19:54:29.980000\", \"memory\": 760139776.0}, {\"host\": \"rstudio-connect-68785f94cc-qzvrm\", \"timestamp\": \"2023-04-03T19:55:29.980000\", \"memory\": 760606720.0}, {\"host\": \"rstudio-connect-68785f94cc-qzvrm\", \"timestamp\": \"2023-04-03T19:56:29.980000\", \"memory\": 760590336.0}, {\"host\": \"rstudio-connect-68785f94cc-qzvrm\", \"timestamp\": \"2023-04-03T19:57:29.980000\", \"memory\": 762142720.0}, {\"host\": \"rstudio-connect-68785f94cc-qzvrm\", \"timestamp\": \"2023-04-03T19:58:29.980000\", \"memory\": 762720256.0}, {\"host\": \"rstudio-connect-68785f94cc-qzvrm\", \"timestamp\": \"2023-04-03T19:59:29.980000\", \"memory\": 762814464.0}, {\"host\": \"rstudio-connect-68785f94cc-qzvrm\", \"timestamp\": \"2023-04-03T20:00:29.980000\", \"memory\": 763711488.0}, {\"host\": \"rstudio-connect-68785f94cc-qzvrm\", \"timestamp\": \"2023-04-03T20:01:29.980000\", \"memory\": 765349888.0}, {\"host\": \"rstudio-connect-68785f94cc-qzvrm\", \"timestamp\": \"2023-04-03T20:02:29.980000\", \"memory\": 765353984.0}, {\"host\": \"rstudio-connect-68785f94cc-qzvrm\", \"timestamp\": \"2023-04-03T20:03:29.980000\", \"memory\": 765403136.0}, {\"host\": \"rstudio-connect-68785f94cc-qzvrm\", \"timestamp\": \"2023-04-03T20:04:29.980000\", \"memory\": 767082496.0}, {\"host\": \"rstudio-connect-68785f94cc-qzvrm\", \"timestamp\": \"2023-04-03T20:05:29.980000\", \"memory\": 767991808.0}, {\"host\": \"rstudio-connect-68785f94cc-qzvrm\", \"timestamp\": \"2023-04-03T20:06:29.980000\", \"memory\": 768045056.0}, {\"host\": \"rstudio-connect-68785f94cc-qzvrm\", \"timestamp\": \"2023-04-03T20:07:29.980000\", \"memory\": 769736704.0}, {\"host\": \"rstudio-connect-68785f94cc-qzvrm\", \"timestamp\": \"2023-04-03T20:08:29.980000\", \"memory\": 771141632.0}, {\"host\": \"rstudio-connect-68785f94cc-qzvrm\", \"timestamp\": \"2023-04-03T20:09:29.980000\", \"memory\": 771207168.0}, {\"host\": \"rstudio-connect-68785f94cc-qzvrm\", \"timestamp\": \"2023-04-03T20:10:29.980000\", \"memory\": 773160960.0}, {\"host\": \"rstudio-connect-68785f94cc-qzvrm\", \"timestamp\": \"2023-04-03T20:11:29.980000\", \"memory\": 774811648.0}, {\"host\": \"rstudio-connect-68785f94cc-qzvrm\", \"timestamp\": \"2023-04-03T20:12:29.980000\", \"memory\": 774897664.0}, {\"host\": \"rstudio-connect-68785f94cc-qzvrm\", \"timestamp\": \"2023-04-03T20:13:29.980000\", \"memory\": 777265152.0}, {\"host\": \"rstudio-connect-68785f94cc-qzvrm\", \"timestamp\": \"2023-04-03T20:14:29.980000\", \"memory\": 779759616.0}, {\"host\": \"rstudio-connect-68785f94cc-qzvrm\", \"timestamp\": \"2023-04-03T20:15:29.980000\", \"memory\": 780578816.0}, {\"host\": \"rstudio-connect-68785f94cc-qzvrm\", \"timestamp\": \"2023-04-03T20:16:29.980000\", \"memory\": 781320192.0}, {\"host\": \"rstudio-connect-68785f94cc-qzvrm\", \"timestamp\": \"2023-04-03T20:17:29.980000\", \"memory\": 782073856.0}, {\"host\": \"rstudio-connect-68785f94cc-qzvrm\", \"timestamp\": \"2023-04-03T20:18:29.980000\", \"memory\": 784400384.0}, {\"host\": \"rstudio-connect-68785f94cc-qzvrm\", \"timestamp\": \"2023-04-03T20:19:29.980000\", \"memory\": 784392192.0}, {\"host\": \"rstudio-connect-68785f94cc-qzvrm\", \"timestamp\": \"2023-04-03T20:20:29.980000\", \"memory\": 786726912.0}, {\"host\": \"rstudio-connect-68785f94cc-qzvrm\", \"timestamp\": \"2023-04-03T20:21:29.980000\", \"memory\": 789708800.0}, {\"host\": \"rstudio-connect-68785f94cc-qzvrm\", \"timestamp\": \"2023-04-03T20:22:29.980000\", \"memory\": 789708800.0}, {\"host\": \"rstudio-connect-68785f94cc-qzvrm\", \"timestamp\": \"2023-04-03T20:23:29.980000\", \"memory\": 792682496.0}, {\"host\": \"rstudio-connect-68785f94cc-qzvrm\", \"timestamp\": \"2023-04-03T20:24:29.980000\", \"memory\": 796135424.0}, {\"host\": \"rstudio-connect-68785f94cc-qzvrm\", \"timestamp\": \"2023-04-03T20:25:29.980000\", \"memory\": 796135424.0}, {\"host\": \"rstudio-connect-68785f94cc-qzvrm\", \"timestamp\": \"2023-04-03T20:26:29.980000\", \"memory\": 799608832.0}, {\"host\": \"rstudio-connect-68785f94cc-qzvrm\", \"timestamp\": \"2023-04-03T20:27:29.980000\", \"memory\": 803348480.0}, {\"host\": \"rstudio-connect-68785f94cc-qzvrm\", \"timestamp\": \"2023-04-03T20:28:29.980000\", \"memory\": 803938304.0}, {\"host\": \"rstudio-connect-68785f94cc-qzvrm\", \"timestamp\": \"2023-04-03T20:29:29.980000\", \"memory\": 805978112.0}, {\"host\": \"rstudio-connect-68785f94cc-qzvrm\", \"timestamp\": \"2023-04-03T20:30:29.980000\", \"memory\": 807899136.0}, {\"host\": \"rstudio-connect-68785f94cc-qzvrm\", \"timestamp\": \"2023-04-03T20:31:29.980000\", \"memory\": 813297664.0}, {\"host\": \"rstudio-connect-68785f94cc-qzvrm\", \"timestamp\": \"2023-04-03T20:32:29.980000\", \"memory\": 813301760.0}, {\"host\": \"rstudio-connect-68785f94cc-qzvrm\", \"timestamp\": \"2023-04-03T20:33:29.980000\", \"memory\": 816783360.0}, {\"host\": \"rstudio-connect-68785f94cc-qzvrm\", \"timestamp\": \"2023-04-03T20:34:29.980000\", \"memory\": 823861248.0}, {\"host\": \"rstudio-connect-68785f94cc-qzvrm\", \"timestamp\": \"2023-04-03T20:35:29.980000\", \"memory\": 823865344.0}, {\"host\": \"rstudio-connect-68785f94cc-qzvrm\", \"timestamp\": \"2023-04-03T20:36:29.980000\", \"memory\": 827756544.0}, {\"host\": \"rstudio-connect-68785f94cc-qzvrm\", \"timestamp\": \"2023-04-03T20:37:29.980000\", \"memory\": 837455872.0}, {\"host\": \"rstudio-connect-68785f94cc-qzvrm\", \"timestamp\": \"2023-04-03T20:38:29.980000\", \"memory\": 837443584.0}, {\"host\": \"rstudio-connect-68785f94cc-qzvrm\", \"timestamp\": \"2023-04-03T20:39:29.980000\", \"memory\": 841838592.0}, {\"host\": \"rstudio-connect-68785f94cc-qzvrm\", \"timestamp\": \"2023-04-03T20:40:29.980000\", \"memory\": 851132416.0}, {\"host\": \"rstudio-connect-68785f94cc-qzvrm\", \"timestamp\": \"2023-04-03T20:41:29.980000\", \"memory\": 854220800.0}, {\"host\": \"rstudio-connect-68785f94cc-qzvrm\", \"timestamp\": \"2023-04-03T20:42:29.980000\", \"memory\": 856174592.0}, {\"host\": \"rstudio-connect-68785f94cc-qzvrm\", \"timestamp\": \"2023-04-03T20:43:29.980000\", \"memory\": 859680768.0}, {\"host\": \"rstudio-connect-68785f94cc-qzvrm\", \"timestamp\": \"2023-04-03T20:44:29.980000\", \"memory\": 874762240.0}, {\"host\": \"rstudio-connect-68785f94cc-qzvrm\", \"timestamp\": \"2023-04-03T20:45:29.980000\", \"memory\": 875646976.0}, {\"host\": \"rstudio-connect-68785f94cc-qzvrm\", \"timestamp\": \"2023-04-03T20:46:29.980000\", \"memory\": 879529984.0}, {\"host\": \"rstudio-connect-68785f94cc-qzvrm\", \"timestamp\": \"2023-04-03T20:47:29.980000\", \"memory\": 898011136.0}, {\"host\": \"rstudio-connect-68785f94cc-qzvrm\", \"timestamp\": \"2023-04-03T20:48:29.980000\", \"memory\": 898027520.0}, {\"host\": \"rstudio-connect-68785f94cc-qzvrm\", \"timestamp\": \"2023-04-03T20:49:29.980000\", \"memory\": 903233536.0}, {\"host\": \"rstudio-connect-68785f94cc-qzvrm\", \"timestamp\": \"2023-04-03T20:50:29.980000\", \"memory\": 925159424.0}, {\"host\": \"rstudio-connect-68785f94cc-qzvrm\", \"timestamp\": \"2023-04-03T20:51:29.980000\", \"memory\": 925224960.0}, {\"host\": \"rstudio-connect-68785f94cc-qzvrm\", \"timestamp\": \"2023-04-03T20:52:29.980000\", \"memory\": 930533376.0}, {\"host\": \"rstudio-connect-68785f94cc-qzvrm\", \"timestamp\": \"2023-04-03T20:53:29.980000\", \"memory\": 947474432.0}, {\"host\": \"rstudio-connect-68785f94cc-qzvrm\", \"timestamp\": \"2023-04-03T20:54:29.980000\", \"memory\": 756867072.0}, {\"host\": \"rstudio-connect-68785f94cc-qzvrm\", \"timestamp\": \"2023-04-03T20:55:29.980000\", \"memory\": 756883456.0}, {\"host\": \"rstudio-connect-68785f94cc-qzvrm\", \"timestamp\": \"2023-04-03T20:56:29.980000\", \"memory\": 756903936.0}, {\"host\": \"rstudio-connect-68785f94cc-qzvrm\", \"timestamp\": \"2023-04-03T20:57:29.980000\", \"memory\": 757358592.0}, {\"host\": \"rstudio-connect-68785f94cc-qzvrm\", \"timestamp\": \"2023-04-03T20:58:29.980000\", \"memory\": 757358592.0}, {\"host\": \"rstudio-connect-68785f94cc-qzvrm\", \"timestamp\": \"2023-04-03T20:59:29.980000\", \"memory\": 757690368.0}, {\"host\": \"rstudio-connect-68785f94cc-qzvrm\", \"timestamp\": \"2023-04-03T21:00:29.980000\", \"memory\": 758185984.0}, {\"host\": \"rstudio-connect-68785f94cc-qzvrm\", \"timestamp\": \"2023-04-03T21:01:29.980000\", \"memory\": 758206464.0}, {\"host\": \"rstudio-connect-68785f94cc-qzvrm\", \"timestamp\": \"2023-04-03T21:02:29.980000\", \"memory\": 758177792.0}, {\"host\": \"rstudio-connect-68785f94cc-qzvrm\", \"timestamp\": \"2023-04-03T21:03:29.980000\", \"memory\": 758702080.0}, {\"host\": \"rstudio-connect-68785f94cc-qzvrm\", \"timestamp\": \"2023-04-03T21:04:29.980000\", \"memory\": 758562816.0}, {\"host\": \"rstudio-connect-68785f94cc-qzvrm\", \"timestamp\": \"2023-04-03T21:05:29.980000\", \"memory\": 758562816.0}, {\"host\": \"rstudio-connect-68785f94cc-qzvrm\", \"timestamp\": \"2023-04-03T21:06:29.980000\", \"memory\": 759357440.0}, {\"host\": \"rstudio-connect-68785f94cc-qzvrm\", \"timestamp\": \"2023-04-03T21:07:29.980000\", \"memory\": 759353344.0}, {\"host\": \"rstudio-connect-68785f94cc-qzvrm\", \"timestamp\": \"2023-04-03T21:08:29.980000\", \"memory\": 759353344.0}, {\"host\": \"rstudio-connect-68785f94cc-qzvrm\", \"timestamp\": \"2023-04-03T21:09:29.980000\", \"memory\": 760922112.0}, {\"host\": \"rstudio-connect-68785f94cc-qzvrm\", \"timestamp\": \"2023-04-03T21:10:29.980000\", \"memory\": 760922112.0}, {\"host\": \"rstudio-connect-68785f94cc-qzvrm\", \"timestamp\": \"2023-04-03T21:11:29.980000\", \"memory\": 760905728.0}, {\"host\": \"rstudio-connect-68785f94cc-qzvrm\", \"timestamp\": \"2023-04-03T21:12:29.980000\", \"memory\": 762335232.0}, {\"host\": \"rstudio-connect-68785f94cc-qzvrm\", \"timestamp\": \"2023-04-03T21:13:29.980000\", \"memory\": 764194816.0}, {\"host\": \"rstudio-connect-68785f94cc-qzvrm\", \"timestamp\": \"2023-04-03T21:14:29.980000\", \"memory\": 764788736.0}, {\"host\": \"rstudio-connect-68785f94cc-qzvrm\", \"timestamp\": \"2023-04-03T21:15:29.980000\", \"memory\": 764973056.0}, {\"host\": \"rstudio-connect-68785f94cc-qzvrm\", \"timestamp\": \"2023-04-03T21:16:29.980000\", \"memory\": 767467520.0}, {\"host\": \"rstudio-connect-68785f94cc-qzvrm\", \"timestamp\": \"2023-04-03T21:17:29.980000\", \"memory\": 767488000.0}, {\"host\": \"rstudio-connect-68785f94cc-qzvrm\", \"timestamp\": \"2023-04-03T21:18:29.980000\", \"memory\": 767508480.0}, {\"host\": \"rstudio-connect-68785f94cc-qzvrm\", \"timestamp\": \"2023-04-03T21:19:29.980000\", \"memory\": 770891776.0}, {\"host\": \"rstudio-connect-68785f94cc-qzvrm\", \"timestamp\": \"2023-04-03T21:20:29.980000\", \"memory\": 770895872.0}, {\"host\": \"rstudio-connect-68785f94cc-qzvrm\", \"timestamp\": \"2023-04-03T21:21:29.980000\", \"memory\": 770928640.0}, {\"host\": \"rstudio-connect-68785f94cc-qzvrm\", \"timestamp\": \"2023-04-03T21:22:29.980000\", \"memory\": 775065600.0}, {\"host\": \"rstudio-connect-68785f94cc-qzvrm\", \"timestamp\": \"2023-04-03T21:23:29.980000\", \"memory\": 775065600.0}, {\"host\": \"rstudio-connect-68785f94cc-qzvrm\", \"timestamp\": \"2023-04-03T21:24:29.980000\", \"memory\": 775180288.0}, {\"host\": \"rstudio-connect-68785f94cc-qzvrm\", \"timestamp\": \"2023-04-03T21:25:29.980000\", \"memory\": 778092544.0}, {\"host\": \"rstudio-connect-68785f94cc-qzvrm\", \"timestamp\": \"2023-04-03T21:26:29.980000\", \"memory\": 780099584.0}, {\"host\": \"rstudio-connect-68785f94cc-qzvrm\", \"timestamp\": \"2023-04-03T21:27:29.980000\", \"memory\": 780193792.0}, {\"host\": \"rstudio-connect-68785f94cc-qzvrm\", \"timestamp\": \"2023-04-03T21:28:29.980000\", \"memory\": 781185024.0}, {\"host\": \"rstudio-connect-68785f94cc-qzvrm\", \"timestamp\": \"2023-04-03T21:29:29.980000\", \"memory\": 786575360.0}, {\"host\": \"rstudio-connect-68785f94cc-qzvrm\", \"timestamp\": \"2023-04-03T21:30:29.980000\", \"memory\": 787357696.0}, {\"host\": \"rstudio-connect-68785f94cc-qzvrm\", \"timestamp\": \"2023-04-03T21:31:29.980000\", \"memory\": 787443712.0}, {\"host\": \"rstudio-connect-68785f94cc-qzvrm\", \"timestamp\": \"2023-04-03T21:32:29.980000\", \"memory\": 793739264.0}, {\"host\": \"rstudio-connect-68785f94cc-qzvrm\", \"timestamp\": \"2023-04-03T21:33:29.980000\", \"memory\": 793784320.0}, {\"host\": \"rstudio-connect-68785f94cc-qzvrm\", \"timestamp\": \"2023-04-03T21:34:29.980000\", \"memory\": 793735168.0}, {\"host\": \"rstudio-connect-68785f94cc-qzvrm\", \"timestamp\": \"2023-04-03T21:35:29.980000\", \"memory\": 801570816.0}, {\"host\": \"rstudio-connect-68785f94cc-qzvrm\", \"timestamp\": \"2023-04-03T21:36:29.980000\", \"memory\": 801521664.0}, {\"host\": \"rstudio-connect-68785f94cc-qzvrm\", \"timestamp\": \"2023-04-03T21:37:29.980000\", \"memory\": 801509376.0}, {\"host\": \"rstudio-connect-68785f94cc-qzvrm\", \"timestamp\": \"2023-04-03T21:38:29.980000\", \"memory\": 805961728.0}, {\"host\": \"rstudio-connect-68785f94cc-qzvrm\", \"timestamp\": \"2023-04-03T21:39:29.980000\", \"memory\": 811237376.0}, {\"host\": \"rstudio-connect-68785f94cc-qzvrm\", \"timestamp\": \"2023-04-03T21:40:29.980000\", \"memory\": 811220992.0}, {\"host\": \"rstudio-connect-68785f94cc-qzvrm\", \"timestamp\": \"2023-04-03T21:41:29.980000\", \"memory\": 812875776.0}, {\"host\": \"rstudio-connect-68785f94cc-qzvrm\", \"timestamp\": \"2023-04-03T21:42:29.980000\", \"memory\": 823500800.0}, {\"host\": \"rstudio-connect-68785f94cc-qzvrm\", \"timestamp\": \"2023-04-03T21:43:29.980000\", \"memory\": 823504896.0}, {\"host\": \"rstudio-connect-68785f94cc-qzvrm\", \"timestamp\": \"2023-04-03T21:44:29.980000\", \"memory\": 823943168.0}, {\"host\": \"rstudio-connect-68785f94cc-qzvrm\", \"timestamp\": \"2023-04-03T21:45:29.980000\", \"memory\": 838287360.0}, {\"host\": \"rstudio-connect-68785f94cc-qzvrm\", \"timestamp\": \"2023-04-03T21:46:29.980000\", \"memory\": 838414336.0}, {\"host\": \"rstudio-connect-68785f94cc-qzvrm\", \"timestamp\": \"2023-04-03T21:47:29.980000\", \"memory\": 838447104.0}, {\"host\": \"rstudio-connect-68785f94cc-qzvrm\", \"timestamp\": \"2023-04-03T21:48:29.980000\", \"memory\": 854306816.0}, {\"host\": \"rstudio-connect-68785f94cc-qzvrm\", \"timestamp\": \"2023-04-03T21:49:29.980000\", \"memory\": 854016000.0}, {\"host\": \"rstudio-connect-68785f94cc-qzvrm\", \"timestamp\": \"2023-04-03T21:50:29.980000\", \"memory\": 854016000.0}, {\"host\": \"rstudio-connect-68785f94cc-qzvrm\", \"timestamp\": \"2023-04-03T21:51:29.980000\", \"memory\": 862744576.0}, {\"host\": \"rstudio-connect-68785f94cc-qzvrm\", \"timestamp\": \"2023-04-03T21:52:29.980000\", \"memory\": 873754624.0}, {\"host\": \"rstudio-connect-68785f94cc-qzvrm\", \"timestamp\": \"2023-04-03T21:53:29.980000\", \"memory\": 873754624.0}, {\"host\": \"rstudio-connect-68785f94cc-qzvrm\", \"timestamp\": \"2023-04-03T21:54:29.985000\", \"memory\": 875671552.0}, {\"host\": \"rstudio-connect-68785f94cc-qzvrm\", \"timestamp\": \"2023-04-03T21:55:29.980000\", \"memory\": 898564096.0}, {\"host\": \"rstudio-connect-68785f94cc-qzvrm\", \"timestamp\": \"2023-04-03T21:56:29.980000\", \"memory\": 898568192.0}, {\"host\": \"rstudio-connect-68785f94cc-qzvrm\", \"timestamp\": \"2023-04-03T21:57:29.980000\", \"memory\": 898699264.0}, {\"host\": \"rstudio-connect-68785f94cc-qzvrm\", \"timestamp\": \"2023-04-03T21:58:29.980000\", \"memory\": 928616448.0}, {\"host\": \"rstudio-connect-68785f94cc-qzvrm\", \"timestamp\": \"2023-04-03T21:59:29.980000\", \"memory\": 928755712.0}, {\"host\": \"rstudio-connect-68785f94cc-qzvrm\", \"timestamp\": \"2023-04-03T22:00:29.980000\", \"memory\": 929480704.0}, {\"host\": \"rstudio-connect-68785f94cc-qzvrm\", \"timestamp\": \"2023-04-03T22:01:29.980000\", \"memory\": 960573440.0}, {\"host\": \"rstudio-connect-68785f94cc-qzvrm\", \"timestamp\": \"2023-04-03T22:02:29.980000\", \"memory\": 963747840.0}, {\"host\": \"rstudio-connect-68785f94cc-qzvrm\", \"timestamp\": \"2023-04-03T22:03:29.980000\", \"memory\": 963747840.0}, {\"host\": \"rstudio-connect-68785f94cc-qzvrm\", \"timestamp\": \"2023-04-03T22:04:29.980000\", \"memory\": 979886080.0}, {\"host\": \"rstudio-connect-68785f94cc-qzvrm\", \"timestamp\": \"2023-04-03T22:05:29.980000\", \"memory\": 1003323392.0}, {\"host\": \"rstudio-connect-68785f94cc-qzvrm\", \"timestamp\": \"2023-04-03T22:06:29.980000\", \"memory\": 1003335680.0}, {\"host\": \"rstudio-connect-68785f94cc-qzvrm\", \"timestamp\": \"2023-04-03T22:07:29.980000\", \"memory\": 1005469696.0}, {\"host\": \"rstudio-connect-68785f94cc-qzvrm\", \"timestamp\": \"2023-04-03T22:08:29.980000\", \"memory\": 1051938816.0}, {\"host\": \"rstudio-connect-68785f94cc-qzvrm\", \"timestamp\": \"2023-04-03T22:09:29.980000\", \"memory\": 1051951104.0}, {\"host\": \"rstudio-connect-68785f94cc-qzvrm\", \"timestamp\": \"2023-04-03T22:10:29.980000\", \"memory\": 1051955200.0}, {\"host\": \"rstudio-connect-68785f94cc-qzvrm\", \"timestamp\": \"2023-04-03T22:11:29.980000\", \"memory\": 1110282240.0}, {\"host\": \"rstudio-connect-68785f94cc-qzvrm\", \"timestamp\": \"2023-04-03T22:12:29.980000\", \"memory\": 1110310912.0}, {\"host\": \"rstudio-connect-68785f94cc-qzvrm\", \"timestamp\": \"2023-04-03T22:13:29.980000\", \"memory\": 1110315008.0}, {\"host\": \"rstudio-connect-68785f94cc-qzvrm\", \"timestamp\": \"2023-04-03T22:14:29.980000\", \"memory\": 1170808832.0}, {\"host\": \"rstudio-connect-68785f94cc-qzvrm\", \"timestamp\": \"2023-04-03T22:15:29.980000\", \"memory\": 1187860480.0}, {\"host\": \"rstudio-connect-68785f94cc-qzvrm\", \"timestamp\": \"2023-04-03T22:16:29.980000\", \"memory\": 1188294656.0}, {\"host\": \"rstudio-connect-68785f94cc-qzvrm\", \"timestamp\": \"2023-04-03T22:17:29.980000\", \"memory\": 1221857280.0}, {\"host\": \"rstudio-connect-68785f94cc-qzvrm\", \"timestamp\": \"2023-04-03T22:18:29.980000\", \"memory\": 1264619520.0}, {\"host\": \"rstudio-connect-68785f94cc-qzvrm\", \"timestamp\": \"2023-04-03T22:19:29.980000\", \"memory\": 1264574464.0}, {\"host\": \"rstudio-connect-68785f94cc-qzvrm\", \"timestamp\": \"2023-04-03T22:20:29.980000\", \"memory\": 1266823168.0}, {\"host\": \"rstudio-connect-68785f94cc-qzvrm\", \"timestamp\": \"2023-04-03T22:21:29.980000\", \"memory\": 765276160.0}, {\"host\": \"rstudio-connect-68785f94cc-qzvrm\", \"timestamp\": \"2023-04-03T22:22:29.980000\", \"memory\": 765374464.0}, {\"host\": \"rstudio-connect-68785f94cc-qzvrm\", \"timestamp\": \"2023-04-03T22:23:29.980000\", \"memory\": 765378560.0}, {\"host\": \"rstudio-connect-68785f94cc-qzvrm\", \"timestamp\": \"2023-04-03T22:24:29.980000\", \"memory\": 765874176.0}, {\"host\": \"rstudio-connect-68785f94cc-qzvrm\", \"timestamp\": \"2023-04-03T22:25:29.980000\", \"memory\": 765874176.0}, {\"host\": \"rstudio-connect-68785f94cc-qzvrm\", \"timestamp\": \"2023-04-03T22:26:29.980000\", \"memory\": 765874176.0}, {\"host\": \"rstudio-connect-68785f94cc-qzvrm\", \"timestamp\": \"2023-04-03T22:27:29.980000\", \"memory\": 766144512.0}, {\"host\": \"rstudio-connect-68785f94cc-qzvrm\", \"timestamp\": \"2023-04-03T22:28:29.980000\", \"memory\": 766132224.0}, {\"host\": \"rstudio-connect-68785f94cc-qzvrm\", \"timestamp\": \"2023-04-03T22:29:29.980000\", \"memory\": 766361600.0}, {\"host\": \"rstudio-connect-68785f94cc-qzvrm\", \"timestamp\": \"2023-04-03T22:30:29.980000\", \"memory\": 767139840.0}, {\"host\": \"rstudio-connect-68785f94cc-qzvrm\", \"timestamp\": \"2023-04-03T22:31:29.980000\", \"memory\": 767344640.0}, {\"host\": \"rstudio-connect-68785f94cc-qzvrm\", \"timestamp\": \"2023-04-03T22:32:29.980000\", \"memory\": 767340544.0}, {\"host\": \"rstudio-connect-68785f94cc-qzvrm\", \"timestamp\": \"2023-04-03T22:33:29.980000\", \"memory\": 767795200.0}, {\"host\": \"rstudio-connect-68785f94cc-qzvrm\", \"timestamp\": \"2023-04-03T22:34:29.980000\", \"memory\": 767598592.0}, {\"host\": \"rstudio-connect-68785f94cc-qzvrm\", \"timestamp\": \"2023-04-03T22:35:29.980000\", \"memory\": 767565824.0}, {\"host\": \"rstudio-connect-68785f94cc-qzvrm\", \"timestamp\": \"2023-04-03T22:36:29.980000\", \"memory\": 768000000.0}, {\"host\": \"rstudio-connect-68785f94cc-qzvrm\", \"timestamp\": \"2023-04-03T22:37:29.980000\", \"memory\": 768397312.0}, {\"host\": \"rstudio-connect-68785f94cc-qzvrm\", \"timestamp\": \"2023-04-03T22:38:29.980000\", \"memory\": 768405504.0}, {\"host\": \"rstudio-connect-68785f94cc-qzvrm\", \"timestamp\": \"2023-04-03T22:39:29.980000\", \"memory\": 768413696.0}, {\"host\": \"rstudio-connect-68785f94cc-qzvrm\", \"timestamp\": \"2023-04-03T22:40:29.980000\", \"memory\": 770453504.0}, {\"host\": \"rstudio-connect-68785f94cc-qzvrm\", \"timestamp\": \"2023-04-03T22:41:29.980000\", \"memory\": 770453504.0}, {\"host\": \"rstudio-connect-68785f94cc-qzvrm\", \"timestamp\": \"2023-04-03T22:42:29.980000\", \"memory\": 770519040.0}, {\"host\": \"rstudio-connect-68785f94cc-qzvrm\", \"timestamp\": \"2023-04-03T22:43:29.980000\", \"memory\": 773332992.0}, {\"host\": \"rstudio-connect-68785f94cc-qzvrm\", \"timestamp\": \"2023-04-03T22:44:29.980000\", \"memory\": 773357568.0}, {\"host\": \"rstudio-connect-68785f94cc-qzvrm\", \"timestamp\": \"2023-04-03T22:45:29.980000\", \"memory\": 774082560.0}, {\"host\": \"rstudio-connect-68785f94cc-qzvrm\", \"timestamp\": \"2023-04-03T22:46:29.980000\", \"memory\": 776810496.0}, {\"host\": \"rstudio-connect-68785f94cc-qzvrm\", \"timestamp\": \"2023-04-03T22:47:29.980000\", \"memory\": 776810496.0}, {\"host\": \"rstudio-connect-68785f94cc-qzvrm\", \"timestamp\": \"2023-04-03T22:48:29.980000\", \"memory\": 776818688.0}, {\"host\": \"rstudio-connect-68785f94cc-qzvrm\", \"timestamp\": \"2023-04-03T22:49:29.980000\", \"memory\": 779431936.0}, {\"host\": \"rstudio-connect-68785f94cc-qzvrm\", \"timestamp\": \"2023-04-03T22:50:29.980000\", \"memory\": 781180928.0}, {\"host\": \"rstudio-connect-68785f94cc-qzvrm\", \"timestamp\": \"2023-04-03T22:51:29.980000\", \"memory\": 781189120.0}, {\"host\": \"rstudio-connect-68785f94cc-qzvrm\", \"timestamp\": \"2023-04-03T22:52:29.980000\", \"memory\": 782311424.0}, {\"host\": \"rstudio-connect-68785f94cc-qzvrm\", \"timestamp\": \"2023-04-03T22:53:29.980000\", \"memory\": 786071552.0}, {\"host\": \"rstudio-connect-68785f94cc-qzvrm\", \"timestamp\": \"2023-04-03T22:54:29.980000\", \"memory\": 786079744.0}, {\"host\": \"rstudio-connect-68785f94cc-qzvrm\", \"timestamp\": \"2023-04-03T22:55:29.980000\", \"memory\": 786083840.0}, {\"host\": \"rstudio-connect-68785f94cc-qzvrm\", \"timestamp\": \"2023-04-03T22:56:29.980000\", \"memory\": 791830528.0}, {\"host\": \"rstudio-connect-68785f94cc-qzvrm\", \"timestamp\": \"2023-04-03T22:57:29.980000\", \"memory\": 791916544.0}, {\"host\": \"rstudio-connect-68785f94cc-qzvrm\", \"timestamp\": \"2023-04-03T22:58:29.980000\", \"memory\": 791900160.0}, {\"host\": \"rstudio-connect-68785f94cc-qzvrm\", \"timestamp\": \"2023-04-03T22:59:29.980000\", \"memory\": 801013760.0}, {\"host\": \"rstudio-connect-68785f94cc-qzvrm\", \"timestamp\": \"2023-04-03T23:00:29.980000\", \"memory\": 802336768.0}, {\"host\": \"rstudio-connect-68785f94cc-qzvrm\", \"timestamp\": \"2023-04-03T23:01:29.980000\", \"memory\": 802402304.0}, {\"host\": \"rstudio-connect-68785f94cc-qzvrm\", \"timestamp\": \"2023-04-03T23:02:29.980000\", \"memory\": 808058880.0}, {\"host\": \"rstudio-connect-68785f94cc-qzvrm\", \"timestamp\": \"2023-04-03T23:03:29.980000\", \"memory\": 811155456.0}, {\"host\": \"rstudio-connect-68785f94cc-qzvrm\", \"timestamp\": \"2023-04-03T23:04:29.980000\", \"memory\": 811114496.0}, {\"host\": \"rstudio-connect-68785f94cc-qzvrm\", \"timestamp\": \"2023-04-03T23:05:29.980000\", \"memory\": 812945408.0}, {\"host\": \"rstudio-connect-68785f94cc-qzvrm\", \"timestamp\": \"2023-04-03T23:06:29.980000\", \"memory\": 822136832.0}, {\"host\": \"rstudio-connect-68785f94cc-qzvrm\", \"timestamp\": \"2023-04-03T23:07:29.980000\", \"memory\": 822136832.0}, {\"host\": \"rstudio-connect-68785f94cc-qzvrm\", \"timestamp\": \"2023-04-03T23:08:29.980000\", \"memory\": 822136832.0}, {\"host\": \"rstudio-connect-68785f94cc-qzvrm\", \"timestamp\": \"2023-04-03T23:09:29.980000\", \"memory\": 835616768.0}, {\"host\": \"rstudio-connect-68785f94cc-qzvrm\", \"timestamp\": \"2023-04-03T23:10:29.980000\", \"memory\": 835620864.0}, {\"host\": \"rstudio-connect-68785f94cc-qzvrm\", \"timestamp\": \"2023-04-03T23:11:29.980000\", \"memory\": 835620864.0}, {\"host\": \"rstudio-connect-68785f94cc-qzvrm\", \"timestamp\": \"2023-04-03T23:12:29.980000\", \"memory\": 835637248.0}, {\"host\": \"rstudio-connect-68785f94cc-qzvrm\", \"timestamp\": \"2023-04-03T23:13:29.980000\", \"memory\": 851996672.0}, {\"host\": \"rstudio-connect-68785f94cc-qzvrm\", \"timestamp\": \"2023-04-03T23:14:29.980000\", \"memory\": 852713472.0}, {\"host\": \"rstudio-connect-68785f94cc-qzvrm\", \"timestamp\": \"2023-04-03T23:15:29.980000\", \"memory\": 853016576.0}, {\"host\": \"rstudio-connect-68785f94cc-qzvrm\", \"timestamp\": \"2023-04-03T23:16:29.980000\", \"memory\": 863944704.0}, {\"host\": \"rstudio-connect-68785f94cc-qzvrm\", \"timestamp\": \"2023-04-03T23:17:29.980000\", \"memory\": 871661568.0}, {\"host\": \"rstudio-connect-68785f94cc-qzvrm\", \"timestamp\": \"2023-04-03T23:18:29.980000\", \"memory\": 871665664.0}, {\"host\": \"rstudio-connect-68785f94cc-qzvrm\", \"timestamp\": \"2023-04-03T23:19:29.980000\", \"memory\": 874573824.0}, {\"host\": \"rstudio-connect-68785f94cc-qzvrm\", \"timestamp\": \"2023-04-03T23:20:29.980000\", \"memory\": 892157952.0}, {\"host\": \"rstudio-connect-68785f94cc-qzvrm\", \"timestamp\": \"2023-04-03T23:21:29.980000\", \"memory\": 892157952.0}, {\"host\": \"rstudio-connect-68785f94cc-qzvrm\", \"timestamp\": \"2023-04-03T23:22:29.980000\", \"memory\": 892243968.0}, {\"host\": \"rstudio-connect-68785f94cc-qzvrm\", \"timestamp\": \"2023-04-03T23:23:29.980000\", \"memory\": 917798912.0}, {\"host\": \"rstudio-connect-68785f94cc-qzvrm\", \"timestamp\": \"2023-04-03T23:24:29.980000\", \"memory\": 917798912.0}, {\"host\": \"rstudio-connect-68785f94cc-qzvrm\", \"timestamp\": \"2023-04-03T23:25:29.980000\", \"memory\": 917893120.0}, {\"host\": \"rstudio-connect-68785f94cc-qzvrm\", \"timestamp\": \"2023-04-03T23:26:29.980000\", \"memory\": 766844928.0}, {\"host\": \"rstudio-connect-68785f94cc-qzvrm\", \"timestamp\": \"2023-04-03T23:27:29.980000\", \"memory\": 766849024.0}, {\"host\": \"rstudio-connect-68785f94cc-qzvrm\", \"timestamp\": \"2023-04-03T23:28:29.980000\", \"memory\": 766869504.0}, {\"host\": \"rstudio-connect-68785f94cc-qzvrm\", \"timestamp\": \"2023-04-03T23:29:29.980000\", \"memory\": 767651840.0}, {\"host\": \"rstudio-connect-68785f94cc-qzvrm\", \"timestamp\": \"2023-04-03T23:30:29.980000\", \"memory\": 767795200.0}, {\"host\": \"rstudio-connect-68785f94cc-qzvrm\", \"timestamp\": \"2023-04-03T23:31:29.980000\", \"memory\": 767979520.0}, {\"host\": \"rstudio-connect-68785f94cc-qzvrm\", \"timestamp\": \"2023-04-03T23:32:29.980000\", \"memory\": 767983616.0}, {\"host\": \"rstudio-connect-68785f94cc-qzvrm\", \"timestamp\": \"2023-04-03T23:33:29.980000\", \"memory\": 768204800.0}, {\"host\": \"rstudio-connect-68785f94cc-qzvrm\", \"timestamp\": \"2023-04-03T23:34:29.980000\", \"memory\": 768176128.0}, {\"host\": \"rstudio-connect-68785f94cc-qzvrm\", \"timestamp\": \"2023-04-03T23:35:29.980000\", \"memory\": 768094208.0}, {\"host\": \"rstudio-connect-68785f94cc-qzvrm\", \"timestamp\": \"2023-04-03T23:36:29.980000\", \"memory\": 768606208.0}, {\"host\": \"rstudio-connect-68785f94cc-qzvrm\", \"timestamp\": \"2023-04-03T23:37:29.980000\", \"memory\": 768610304.0}, {\"host\": \"rstudio-connect-68785f94cc-qzvrm\", \"timestamp\": \"2023-04-03T23:38:29.980000\", \"memory\": 768618496.0}, {\"host\": \"rstudio-connect-68785f94cc-qzvrm\", \"timestamp\": \"2023-04-03T23:39:29.980000\", \"memory\": 768815104.0}, {\"host\": \"rstudio-connect-68785f94cc-qzvrm\", \"timestamp\": \"2023-04-03T23:40:29.980000\", \"memory\": 768815104.0}, {\"host\": \"rstudio-connect-68785f94cc-qzvrm\", \"timestamp\": \"2023-04-03T23:41:29.980000\", \"memory\": 768811008.0}, {\"host\": \"rstudio-connect-68785f94cc-qzvrm\", \"timestamp\": \"2023-04-03T23:42:29.980000\", \"memory\": 769355776.0}, {\"host\": \"rstudio-connect-68785f94cc-qzvrm\", \"timestamp\": \"2023-04-03T23:43:29.980000\", \"memory\": 769355776.0}, {\"host\": \"rstudio-connect-68785f94cc-qzvrm\", \"timestamp\": \"2023-04-03T23:44:29.980000\", \"memory\": 769368064.0}, {\"host\": \"rstudio-connect-68785f94cc-qzvrm\", \"timestamp\": \"2023-04-03T23:45:29.980000\", \"memory\": 771133440.0}, {\"host\": \"rstudio-connect-68785f94cc-qzvrm\", \"timestamp\": \"2023-04-03T23:46:29.980000\", \"memory\": 772861952.0}, {\"host\": \"rstudio-connect-68785f94cc-qzvrm\", \"timestamp\": \"2023-04-03T23:47:29.980000\", \"memory\": 778039296.0}, {\"host\": \"rstudio-connect-68785f94cc-qzvrm\", \"timestamp\": \"2023-04-03T23:48:29.980000\", \"memory\": 779440128.0}, {\"host\": \"rstudio-connect-68785f94cc-qzvrm\", \"timestamp\": \"2023-04-03T23:49:29.980000\", \"memory\": 779448320.0}, {\"host\": \"rstudio-connect-68785f94cc-qzvrm\", \"timestamp\": \"2023-04-03T23:50:29.980000\", \"memory\": 779378688.0}, {\"host\": \"rstudio-connect-68785f94cc-qzvrm\", \"timestamp\": \"2023-04-03T23:51:29.980000\", \"memory\": 779870208.0}, {\"host\": \"rstudio-connect-68785f94cc-qzvrm\", \"timestamp\": \"2023-04-03T23:52:29.980000\", \"memory\": 781742080.0}, {\"host\": \"rstudio-connect-68785f94cc-qzvrm\", \"timestamp\": \"2023-04-03T23:53:29.980000\", \"memory\": 781758464.0}, {\"host\": \"rstudio-connect-68785f94cc-qzvrm\", \"timestamp\": \"2023-04-03T23:54:29.980000\", \"memory\": 781758464.0}, {\"host\": \"rstudio-connect-68785f94cc-qzvrm\", \"timestamp\": \"2023-04-03T23:55:29.980000\", \"memory\": 784228352.0}, {\"host\": \"rstudio-connect-68785f94cc-qzvrm\", \"timestamp\": \"2023-04-03T23:56:29.980000\", \"memory\": 784240640.0}, {\"host\": \"rstudio-connect-68785f94cc-qzvrm\", \"timestamp\": \"2023-04-03T23:57:29.980000\", \"memory\": 784240640.0}, {\"host\": \"rstudio-connect-68785f94cc-qzvrm\", \"timestamp\": \"2023-04-03T23:58:29.980000\", \"memory\": 788283392.0}, {\"host\": \"rstudio-connect-68785f94cc-qzvrm\", \"timestamp\": \"2023-04-03T23:59:29.980000\", \"memory\": 788283392.0}]}}, {\"mode\": \"vega-lite\"});\n",
       "</script>"
      ],
      "text/plain": [
       "alt.Chart(...)"
      ]
     },
     "execution_count": null,
     "metadata": {},
     "output_type": "execute_result"
    }
   ],
   "source": [
    "m = scan_chronicle_metrics(\"./data\", \"2023/04/03\")\n",
    "p = m.metrics.plot(\"rsconnect_system_memory_used\", service = \"connect-metrics\", alias = \"memory\")\n",
    "# assert str(type(p)) == \"<class 'plotly.graph_objs._figure.Figure'>\"\n",
    "\n",
    "p"
   ]
  },
  {
   "attachments": {},
   "cell_type": "markdown",
   "metadata": {},
   "source": [
    "Plot using `altair`"
   ]
  },
  {
   "attachments": {},
   "cell_type": "markdown",
   "metadata": {},
   "source": [
    "## Analyse logs"
   ]
  },
  {
   "cell_type": "code",
   "execution_count": null,
   "metadata": {},
   "outputs": [
    {
     "name": "stderr",
     "output_type": "stream",
     "text": [
      "C:\\Users\\apdev\\AppData\\Local\\Temp\\ipykernel_20952\\10055886.py:3: UserWarning: Overriding existing custom namespace 'logs' (on LazyFrame)\n",
      "  class ChronicleLogs:\n"
     ]
    }
   ],
   "source": [
    "\n",
    "#| export\n",
    "@pl.api.register_lazyframe_namespace(\"logs\")\n",
    "class ChronicleLogs:\n",
    "    def __init__(self, \n",
    "                 df: pl.DataFrame # A polars data frame\n",
    "                 ) -> pl.DataFrame:\n",
    "        \"Initialise a chronicle logs DataFrame\"\n",
    "        self._ldf = df"
   ]
  },
  {
   "attachments": {},
   "cell_type": "markdown",
   "metadata": {},
   "source": [
    "#### Filter logs on type"
   ]
  },
  {
   "attachments": {},
   "cell_type": "markdown",
   "metadata": {},
   "source": [
    "You can use `logs/filter_type()` to filter logs on the `type` column."
   ]
  },
  {
   "cell_type": "code",
   "execution_count": null,
   "metadata": {},
   "outputs": [],
   "source": [
    "#| export\n",
    "@patch\n",
    "def filter_type(self: ChronicleLogs,\n",
    "                value: str # Value to extract \n",
    "    ) -> pd.DataFrame:\n",
    "    \"Extract all logs where type == value\"\n",
    "    return (\n",
    "        self._ldf\n",
    "        .with_columns([\n",
    "            (pl.col(\"body\").str.json_path_match(f\"$.{value}\").alias(f\".{value}\")),\n",
    "            (pl.col(\"body\").str.json_path_match(\"$.type\").alias(\".type\"))\n",
    "        ])\n",
    "        .filter(pl.col(f\".{value}\").is_not_null())\n",
    "        .select([\"service\", \"host\", \"timestamp\", f\".{value}\", \".type\", \"body\"])\n",
    "        .sort(\"service\", \"host\", f\".{value}\", \"timestamp\")\n",
    "        .collect()\n",
    "    )"
   ]
  },
  {
   "cell_type": "code",
   "execution_count": null,
   "metadata": {},
   "outputs": [],
   "source": [
    "logs = scan_chronicle_logs(\"./data\", \"2023/04/03\").logs.filter_type(\"username\")\n",
    "assert type(logs) == pl.DataFrame"
   ]
  },
  {
   "attachments": {},
   "cell_type": "markdown",
   "metadata": {},
   "source": [
    "## Connect logins"
   ]
  },
  {
   "cell_type": "code",
   "execution_count": null,
   "metadata": {},
   "outputs": [],
   "source": [
    "\n",
    "#| export\n",
    "@patch\n",
    "def connect_logins(\n",
    "    self: ChronicleLogs,\n",
    "    ) -> pl.DataFrame:\n",
    "    \"Extract Connect login logs\"\n",
    "    return (\n",
    "        self._ldf\n",
    "        .with_columns([\n",
    "            pl.col(\"body\").str.json_path_match(\"$.type\").alias(\"type\"),\n",
    "            pl.col(\"body\").str.json_path_match(\"$.action\").alias(\"action\"),\n",
    "            pl.col(\"body\").str.json_path_match(\"$.actor_description\").alias(\"username\"),\n",
    "        ])\n",
    "        .filter(\n",
    "            (pl.col(\"service\") == \"connect\") &\n",
    "            (pl.col(\"type\") == \"audit\") &\n",
    "            (pl.col(\"action\") == \"user_login\")\n",
    "        )\n",
    "        .select(\"host\", \"timestamp\", \"username\", \"action\", \"type\")\n",
    "        .collect()\n",
    "    )\n"
   ]
  },
  {
   "cell_type": "code",
   "execution_count": null,
   "metadata": {},
   "outputs": [
    {
     "data": {
      "text/html": [
       "<div><style>\n",
       ".dataframe > thead > tr > th,\n",
       ".dataframe > tbody > tr > td {\n",
       "  text-align: right;\n",
       "}\n",
       "</style>\n",
       "<small>shape: (2, 5)</small><table border=\"1\" class=\"dataframe\"><thead><tr><th>host</th><th>timestamp</th><th>username</th><th>action</th><th>type</th></tr><tr><td>str</td><td>datetime[ms]</td><td>str</td><td>str</td><td>str</td></tr></thead><tbody><tr><td>&quot;rstudio-connec…</td><td>2023-04-03 19:30:36.098</td><td>&quot;Ming Beckwith …</td><td>&quot;user_login&quot;</td><td>&quot;audit&quot;</td></tr><tr><td>&quot;rstudio-connec…</td><td>2023-04-04 14:29:24.298</td><td>&quot;Tim Margheim (…</td><td>&quot;user_login&quot;</td><td>&quot;audit&quot;</td></tr></tbody></table></div>"
      ],
      "text/plain": [
       "shape: (2, 5)\n",
       "┌────────────────────────────┬─────────────────────────┬──────────────────────┬────────────┬───────┐\n",
       "│ host                       ┆ timestamp               ┆ username             ┆ action     ┆ type  │\n",
       "│ ---                        ┆ ---                     ┆ ---                  ┆ ---        ┆ ---   │\n",
       "│ str                        ┆ datetime[ms]            ┆ str                  ┆ str        ┆ str   │\n",
       "╞════════════════════════════╪═════════════════════════╪══════════════════════╪════════════╪═══════╡\n",
       "│ rstudio-connect-68785f94cc ┆ 2023-04-03 19:30:36.098 ┆ Ming Beckwith (ming) ┆ user_login ┆ audit │\n",
       "│ -qzvrm                     ┆                         ┆                      ┆            ┆       │\n",
       "│ rstudio-connect-68785f94cc ┆ 2023-04-04 14:29:24.298 ┆ Tim Margheim         ┆ user_login ┆ audit │\n",
       "│ -qzvrm                     ┆                         ┆ (tim.margheim)       ┆            ┆       │\n",
       "└────────────────────────────┴─────────────────────────┴──────────────────────┴────────────┴───────┘"
      ]
     },
     "execution_count": null,
     "metadata": {},
     "output_type": "execute_result"
    }
   ],
   "source": [
    "\n",
    "path = \"./data\"\n",
    "scan_chronicle_logs(path).logs.connect_logins()"
   ]
  },
  {
   "attachments": {},
   "cell_type": "markdown",
   "metadata": {},
   "source": [
    "## Workbench logins"
   ]
  },
  {
   "cell_type": "code",
   "execution_count": null,
   "metadata": {},
   "outputs": [],
   "source": [
    "#| export\n",
    "@patch\n",
    "def workbench_logins(\n",
    "    self: ChronicleLogs,\n",
    "    ) -> pl.DataFrame:\n",
    "    \"Extract Workbench login logs\"\n",
    "    return (\n",
    "        self._ldf\n",
    "        .with_columns([\n",
    "            pl.col(\"body\").str.json_path_match(\"$.type\").alias(\"type\"),\n",
    "            pl.col(\"body\").str.json_path_match(\"$.action\").alias(\"action\"),\n",
    "            pl.col(\"body\").str.json_path_match(\"$.username\").alias(\"username\"),\n",
    "        ])\n",
    "        .filter(\n",
    "            (pl.col(\"service\") == \"workbench\") &\n",
    "            (pl.col(\"type\") == \"auth_login\")\n",
    "        )\n",
    "        .select(\"host\", \"timestamp\", \"username\", \"action\", \"type\")\n",
    "        .collect()\n",
    "    )\n"
   ]
  },
  {
   "cell_type": "code",
   "execution_count": null,
   "metadata": {},
   "outputs": [
    {
     "data": {
      "text/html": [
       "<div><style>\n",
       ".dataframe > thead > tr > th,\n",
       ".dataframe > tbody > tr > td {\n",
       "  text-align: right;\n",
       "}\n",
       "</style>\n",
       "<small>shape: (8, 5)</small><table border=\"1\" class=\"dataframe\"><thead><tr><th>host</th><th>timestamp</th><th>username</th><th>action</th><th>type</th></tr><tr><td>str</td><td>datetime[ms]</td><td>str</td><td>str</td><td>str</td></tr></thead><tbody><tr><td>&quot;rstudio-workbe…</td><td>2023-04-04 16:21:48.361</td><td>&quot;monanshi.shah&quot;</td><td>null</td><td>&quot;auth_login&quot;</td></tr><tr><td>&quot;rstudio-workbe…</td><td>2023-04-06 21:44:28.264</td><td>&quot;lisa.anders&quot;</td><td>null</td><td>&quot;auth_login&quot;</td></tr><tr><td>&quot;rstudio-workbe…</td><td>2023-04-07 03:46:57.960</td><td>&quot;james&quot;</td><td>null</td><td>&quot;auth_login&quot;</td></tr><tr><td>&quot;rstudio-workbe…</td><td>2023-04-11 17:14:54.265</td><td>&quot;lisa.anders&quot;</td><td>null</td><td>&quot;auth_login&quot;</td></tr><tr><td>&quot;rstudio-workbe…</td><td>2023-05-05 13:47:58.865</td><td>&quot;cole&quot;</td><td>null</td><td>&quot;auth_login&quot;</td></tr><tr><td>&quot;rstudio-workbe…</td><td>2023-05-08 15:19:22.190</td><td>&quot;andrie&quot;</td><td>null</td><td>&quot;auth_login&quot;</td></tr><tr><td>&quot;rstudio-workbe…</td><td>2023-05-08 16:58:39.698</td><td>&quot;monanshi.shah&quot;</td><td>null</td><td>&quot;auth_login&quot;</td></tr><tr><td>&quot;rstudio-workbe…</td><td>2023-05-09 14:30:10.252</td><td>&quot;monanshi.shah&quot;</td><td>null</td><td>&quot;auth_login&quot;</td></tr></tbody></table></div>"
      ],
      "text/plain": [
       "shape: (8, 5)\n",
       "┌──────────────────────────────────┬─────────────────────────┬───────────────┬────────┬────────────┐\n",
       "│ host                             ┆ timestamp               ┆ username      ┆ action ┆ type       │\n",
       "│ ---                              ┆ ---                     ┆ ---           ┆ ---    ┆ ---        │\n",
       "│ str                              ┆ datetime[ms]            ┆ str           ┆ str    ┆ str        │\n",
       "╞══════════════════════════════════╪═════════════════════════╪═══════════════╪════════╪════════════╡\n",
       "│ rstudio-workbench-6b9658c77f-29k ┆ 2023-04-04 16:21:48.361 ┆ monanshi.shah ┆ null   ┆ auth_login │\n",
       "│ …                                ┆                         ┆               ┆        ┆            │\n",
       "│ rstudio-workbench-6b9658c77f-mn8 ┆ 2023-04-06 21:44:28.264 ┆ lisa.anders   ┆ null   ┆ auth_login │\n",
       "│ …                                ┆                         ┆               ┆        ┆            │\n",
       "│ rstudio-workbench-6b9658c77f-29k ┆ 2023-04-07 03:46:57.960 ┆ james         ┆ null   ┆ auth_login │\n",
       "│ …                                ┆                         ┆               ┆        ┆            │\n",
       "│ rstudio-workbench-6b9658c77f-mn8 ┆ 2023-04-11 17:14:54.265 ┆ lisa.anders   ┆ null   ┆ auth_login │\n",
       "│ …                                ┆                         ┆               ┆        ┆            │\n",
       "│ rstudio-workbench-6b9658c77f-mn8 ┆ 2023-05-05 13:47:58.865 ┆ cole          ┆ null   ┆ auth_login │\n",
       "│ …                                ┆                         ┆               ┆        ┆            │\n",
       "│ rstudio-workbench-7fcbc876f4-jsz ┆ 2023-05-08 15:19:22.190 ┆ andrie        ┆ null   ┆ auth_login │\n",
       "│ …                                ┆                         ┆               ┆        ┆            │\n",
       "│ rstudio-workbench-7fcbc876f4-wq4 ┆ 2023-05-08 16:58:39.698 ┆ monanshi.shah ┆ null   ┆ auth_login │\n",
       "│ …                                ┆                         ┆               ┆        ┆            │\n",
       "│ rstudio-workbench-6b9658c77f-5cg ┆ 2023-05-09 14:30:10.252 ┆ monanshi.shah ┆ null   ┆ auth_login │\n",
       "│ …                                ┆                         ┆               ┆        ┆            │\n",
       "└──────────────────────────────────┴─────────────────────────┴───────────────┴────────┴────────────┘"
      ]
     },
     "execution_count": null,
     "metadata": {},
     "output_type": "execute_result"
    }
   ],
   "source": [
    "\n",
    "path = \"./data\"\n",
    "scan_chronicle_logs(path).logs.workbench_logins()"
   ]
  },
  {
   "cell_type": "code",
   "execution_count": null,
   "metadata": {},
   "outputs": [],
   "source": [
    "#| hide\n",
    "import nbdev; nbdev.nbdev_export()"
   ]
  }
 ],
 "metadata": {
  "kernelspec": {
   "display_name": "python3",
   "language": "python",
   "name": "python3"
  }
 },
 "nbformat": 4,
 "nbformat_minor": 4
}
